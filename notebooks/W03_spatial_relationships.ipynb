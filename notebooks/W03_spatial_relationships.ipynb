{
  "cells": [
    {
      "cell_type": "markdown",
      "metadata": {
        "id": "i0WY_ZC3VZ1M"
      },
      "source": [
        "# Spatial Relationships\n",
        "\n",
        "## Introduction\n",
        "\n",
        "This notebook demonstrates how to analyze spatial relationships between features in a dataset.\n",
        "\n",
        "## Installation\n",
        "\n",
        "Uncomment the following cell to install the required packages if needed."
      ],
      "id": "i0WY_ZC3VZ1M"
    },
    {
      "cell_type": "code",
      "execution_count": 1,
      "metadata": {
        "id": "Wgw-vBxMVZ1O"
      },
      "outputs": [],
      "source": [
        "# %pip install duckdb leafmap"
      ],
      "id": "Wgw-vBxMVZ1O"
    },
    {
      "cell_type": "code",
      "source": [
        "%pip install duckdb duckdb-engine jupysql\n",
        "%load_ext sql\n",
        "%config SqlMagic.autopandas = True\n",
        "%config SqlMagic.feedback = False\n",
        "%config SqlMagic.displaycon = False"
      ],
      "metadata": {
        "id": "l5kmoL4maTXf",
        "outputId": "d6e296b1-4aac-4b08-b034-b119ed59674f",
        "colab": {
          "base_uri": "https://localhost:8080/"
        }
      },
      "id": "l5kmoL4maTXf",
      "execution_count": 2,
      "outputs": [
        {
          "output_type": "stream",
          "name": "stdout",
          "text": [
            "Requirement already satisfied: duckdb in /usr/local/lib/python3.11/dist-packages (1.1.3)\n",
            "Collecting duckdb-engine\n",
            "  Downloading duckdb_engine-0.15.0-py3-none-any.whl.metadata (7.9 kB)\n",
            "Collecting jupysql\n",
            "  Downloading jupysql-0.10.17-py3-none-any.whl.metadata (5.7 kB)\n",
            "Requirement already satisfied: packaging>=21 in /usr/local/lib/python3.11/dist-packages (from duckdb-engine) (24.2)\n",
            "Requirement already satisfied: sqlalchemy>=1.3.22 in /usr/local/lib/python3.11/dist-packages (from duckdb-engine) (2.0.37)\n",
            "Requirement already satisfied: prettytable>=3.12.0 in /usr/local/lib/python3.11/dist-packages (from jupysql) (3.13.0)\n",
            "Requirement already satisfied: sqlparse in /usr/local/lib/python3.11/dist-packages (from jupysql) (0.5.3)\n",
            "Requirement already satisfied: ipython-genutils>=0.1.0 in /usr/local/lib/python3.11/dist-packages (from jupysql) (0.2.0)\n",
            "Requirement already satisfied: jinja2 in /usr/local/lib/python3.11/dist-packages (from jupysql) (3.1.5)\n",
            "Requirement already satisfied: sqlglot>=11.3.7 in /usr/local/lib/python3.11/dist-packages (from jupysql) (25.6.1)\n",
            "Collecting jupysql-plugin>=0.4.2 (from jupysql)\n",
            "  Downloading jupysql_plugin-0.4.5-py3-none-any.whl.metadata (7.8 kB)\n",
            "Collecting ploomber-core>=0.2.7 (from jupysql)\n",
            "  Downloading ploomber_core-0.2.26-py3-none-any.whl.metadata (527 bytes)\n",
            "Requirement already satisfied: pyyaml in /usr/local/lib/python3.11/dist-packages (from ploomber-core>=0.2.7->jupysql) (6.0.2)\n",
            "Collecting posthog (from ploomber-core>=0.2.7->jupysql)\n",
            "  Downloading posthog-3.11.0-py2.py3-none-any.whl.metadata (2.9 kB)\n",
            "Requirement already satisfied: wcwidth in /usr/local/lib/python3.11/dist-packages (from prettytable>=3.12.0->jupysql) (0.2.13)\n",
            "Requirement already satisfied: greenlet!=0.4.17 in /usr/local/lib/python3.11/dist-packages (from sqlalchemy>=1.3.22->duckdb-engine) (3.1.1)\n",
            "Requirement already satisfied: typing-extensions>=4.6.0 in /usr/local/lib/python3.11/dist-packages (from sqlalchemy>=1.3.22->duckdb-engine) (4.12.2)\n",
            "Requirement already satisfied: MarkupSafe>=2.0 in /usr/local/lib/python3.11/dist-packages (from jinja2->jupysql) (3.0.2)\n",
            "Requirement already satisfied: requests<3.0,>=2.7 in /usr/local/lib/python3.11/dist-packages (from posthog->ploomber-core>=0.2.7->jupysql) (2.32.3)\n",
            "Requirement already satisfied: six>=1.5 in /usr/local/lib/python3.11/dist-packages (from posthog->ploomber-core>=0.2.7->jupysql) (1.17.0)\n",
            "Collecting monotonic>=1.5 (from posthog->ploomber-core>=0.2.7->jupysql)\n",
            "  Downloading monotonic-1.6-py2.py3-none-any.whl.metadata (1.5 kB)\n",
            "Collecting backoff>=1.10.0 (from posthog->ploomber-core>=0.2.7->jupysql)\n",
            "  Downloading backoff-2.2.1-py3-none-any.whl.metadata (14 kB)\n",
            "Requirement already satisfied: python-dateutil>2.1 in /usr/local/lib/python3.11/dist-packages (from posthog->ploomber-core>=0.2.7->jupysql) (2.8.2)\n",
            "Requirement already satisfied: charset-normalizer<4,>=2 in /usr/local/lib/python3.11/dist-packages (from requests<3.0,>=2.7->posthog->ploomber-core>=0.2.7->jupysql) (3.4.1)\n",
            "Requirement already satisfied: idna<4,>=2.5 in /usr/local/lib/python3.11/dist-packages (from requests<3.0,>=2.7->posthog->ploomber-core>=0.2.7->jupysql) (3.10)\n",
            "Requirement already satisfied: urllib3<3,>=1.21.1 in /usr/local/lib/python3.11/dist-packages (from requests<3.0,>=2.7->posthog->ploomber-core>=0.2.7->jupysql) (2.3.0)\n",
            "Requirement already satisfied: certifi>=2017.4.17 in /usr/local/lib/python3.11/dist-packages (from requests<3.0,>=2.7->posthog->ploomber-core>=0.2.7->jupysql) (2024.12.14)\n",
            "Downloading duckdb_engine-0.15.0-py3-none-any.whl (49 kB)\n",
            "\u001b[2K   \u001b[90m━━━━━━━━━━━━━━━━━━━━━━━━━━━━━━━━━━━━━━━━\u001b[0m \u001b[32m49.6/49.6 kB\u001b[0m \u001b[31m3.5 MB/s\u001b[0m eta \u001b[36m0:00:00\u001b[0m\n",
            "\u001b[?25hDownloading jupysql-0.10.17-py3-none-any.whl (95 kB)\n",
            "\u001b[2K   \u001b[90m━━━━━━━━━━━━━━━━━━━━━━━━━━━━━━━━━━━━━━━━\u001b[0m \u001b[32m95.2/95.2 kB\u001b[0m \u001b[31m6.4 MB/s\u001b[0m eta \u001b[36m0:00:00\u001b[0m\n",
            "\u001b[?25hDownloading jupysql_plugin-0.4.5-py3-none-any.whl (192 kB)\n",
            "\u001b[2K   \u001b[90m━━━━━━━━━━━━━━━━━━━━━━━━━━━━━━━━━━━━━━━━\u001b[0m \u001b[32m192.8/192.8 kB\u001b[0m \u001b[31m15.1 MB/s\u001b[0m eta \u001b[36m0:00:00\u001b[0m\n",
            "\u001b[?25hDownloading ploomber_core-0.2.26-py3-none-any.whl (22 kB)\n",
            "Downloading posthog-3.11.0-py2.py3-none-any.whl (72 kB)\n",
            "\u001b[2K   \u001b[90m━━━━━━━━━━━━━━━━━━━━━━━━━━━━━━━━━━━━━━━━\u001b[0m \u001b[32m72.0/72.0 kB\u001b[0m \u001b[31m5.9 MB/s\u001b[0m eta \u001b[36m0:00:00\u001b[0m\n",
            "\u001b[?25hDownloading backoff-2.2.1-py3-none-any.whl (15 kB)\n",
            "Downloading monotonic-1.6-py2.py3-none-any.whl (8.2 kB)\n",
            "Installing collected packages: monotonic, backoff, posthog, duckdb-engine, ploomber-core, jupysql-plugin, jupysql\n",
            "Successfully installed backoff-2.2.1 duckdb-engine-0.15.0 jupysql-0.10.17 jupysql-plugin-0.4.5 monotonic-1.6 ploomber-core-0.2.26 posthog-3.11.0\n"
          ]
        }
      ]
    },
    {
      "cell_type": "markdown",
      "metadata": {
        "id": "-rhFO3YcVZ1O"
      },
      "source": [
        "## Library Import and Configuration"
      ],
      "id": "-rhFO3YcVZ1O"
    },
    {
      "cell_type": "code",
      "execution_count": 4,
      "metadata": {
        "id": "aGYpKbOtVZ1P",
        "outputId": "1bf42126-2eb7-40d3-d257-d2f4a2b85085",
        "colab": {
          "base_uri": "https://localhost:8080/"
        }
      },
      "outputs": [
        {
          "output_type": "stream",
          "name": "stdout",
          "text": [
            "Collecting leafmap\n",
            "  Downloading leafmap-0.42.9-py2.py3-none-any.whl.metadata (16 kB)\n",
            "Collecting anywidget (from leafmap)\n",
            "  Downloading anywidget-0.9.13-py3-none-any.whl.metadata (7.2 kB)\n",
            "Requirement already satisfied: bqplot in /usr/local/lib/python3.11/dist-packages (from leafmap) (0.12.44)\n",
            "Requirement already satisfied: colour in /usr/local/lib/python3.11/dist-packages (from leafmap) (0.1.5)\n",
            "Requirement already satisfied: duckdb in /usr/local/lib/python3.11/dist-packages (from leafmap) (1.1.3)\n",
            "Requirement already satisfied: folium in /usr/local/lib/python3.11/dist-packages (from leafmap) (0.19.4)\n",
            "Requirement already satisfied: gdown in /usr/local/lib/python3.11/dist-packages (from leafmap) (5.2.0)\n",
            "Collecting geojson (from leafmap)\n",
            "  Downloading geojson-3.2.0-py3-none-any.whl.metadata (16 kB)\n",
            "Requirement already satisfied: ipyevents in /usr/local/lib/python3.11/dist-packages (from leafmap) (2.0.2)\n",
            "Requirement already satisfied: ipyfilechooser in /usr/local/lib/python3.11/dist-packages (from leafmap) (0.6.0)\n",
            "Requirement already satisfied: ipyleaflet in /usr/local/lib/python3.11/dist-packages (from leafmap) (0.19.2)\n",
            "Collecting ipyvuetify (from leafmap)\n",
            "  Downloading ipyvuetify-1.10.0-py2.py3-none-any.whl.metadata (7.5 kB)\n",
            "Requirement already satisfied: ipywidgets in /usr/local/lib/python3.11/dist-packages (from leafmap) (7.7.1)\n",
            "Requirement already satisfied: matplotlib in /usr/local/lib/python3.11/dist-packages (from leafmap) (3.10.0)\n",
            "Requirement already satisfied: numpy in /usr/local/lib/python3.11/dist-packages (from leafmap) (1.26.4)\n",
            "Requirement already satisfied: pandas in /usr/local/lib/python3.11/dist-packages (from leafmap) (2.2.2)\n",
            "Requirement already satisfied: plotly in /usr/local/lib/python3.11/dist-packages (from leafmap) (5.24.1)\n",
            "Requirement already satisfied: psutil in /usr/local/lib/python3.11/dist-packages (from leafmap) (5.9.5)\n",
            "Requirement already satisfied: pyshp in /usr/local/lib/python3.11/dist-packages (from leafmap) (2.3.1)\n",
            "Collecting pystac-client (from leafmap)\n",
            "  Downloading pystac_client-0.8.5-py3-none-any.whl.metadata (5.1 kB)\n",
            "Requirement already satisfied: python-box in /usr/local/lib/python3.11/dist-packages (from leafmap) (7.3.2)\n",
            "Requirement already satisfied: scooby in /usr/local/lib/python3.11/dist-packages (from leafmap) (0.10.0)\n",
            "Collecting whiteboxgui (from leafmap)\n",
            "  Downloading whiteboxgui-2.3.0-py2.py3-none-any.whl.metadata (5.7 kB)\n",
            "Requirement already satisfied: xyzservices in /usr/local/lib/python3.11/dist-packages (from leafmap) (2025.1.0)\n",
            "Collecting psygnal>=0.8.1 (from anywidget->leafmap)\n",
            "  Downloading psygnal-0.12.0-cp311-cp311-manylinux_2_17_x86_64.manylinux2014_x86_64.whl.metadata (7.7 kB)\n",
            "Requirement already satisfied: typing-extensions>=4.2.0 in /usr/local/lib/python3.11/dist-packages (from anywidget->leafmap) (4.12.2)\n",
            "Requirement already satisfied: ipykernel>=4.5.1 in /usr/local/lib/python3.11/dist-packages (from ipywidgets->leafmap) (5.5.6)\n",
            "Requirement already satisfied: ipython-genutils~=0.2.0 in /usr/local/lib/python3.11/dist-packages (from ipywidgets->leafmap) (0.2.0)\n",
            "Requirement already satisfied: traitlets>=4.3.1 in /usr/local/lib/python3.11/dist-packages (from ipywidgets->leafmap) (5.7.1)\n",
            "Requirement already satisfied: widgetsnbextension~=3.6.0 in /usr/local/lib/python3.11/dist-packages (from ipywidgets->leafmap) (3.6.10)\n",
            "Requirement already satisfied: ipython>=4.0.0 in /usr/local/lib/python3.11/dist-packages (from ipywidgets->leafmap) (7.34.0)\n",
            "Requirement already satisfied: jupyterlab-widgets>=1.0.0 in /usr/local/lib/python3.11/dist-packages (from ipywidgets->leafmap) (3.0.13)\n",
            "Requirement already satisfied: traittypes>=0.0.6 in /usr/local/lib/python3.11/dist-packages (from bqplot->leafmap) (0.2.1)\n",
            "Requirement already satisfied: python-dateutil>=2.8.2 in /usr/local/lib/python3.11/dist-packages (from pandas->leafmap) (2.8.2)\n",
            "Requirement already satisfied: pytz>=2020.1 in /usr/local/lib/python3.11/dist-packages (from pandas->leafmap) (2024.2)\n",
            "Requirement already satisfied: tzdata>=2022.7 in /usr/local/lib/python3.11/dist-packages (from pandas->leafmap) (2025.1)\n",
            "Requirement already satisfied: branca>=0.6.0 in /usr/local/lib/python3.11/dist-packages (from folium->leafmap) (0.8.1)\n",
            "Requirement already satisfied: jinja2>=2.9 in /usr/local/lib/python3.11/dist-packages (from folium->leafmap) (3.1.5)\n",
            "Requirement already satisfied: requests in /usr/local/lib/python3.11/dist-packages (from folium->leafmap) (2.32.3)\n",
            "Requirement already satisfied: beautifulsoup4 in /usr/local/lib/python3.11/dist-packages (from gdown->leafmap) (4.12.3)\n",
            "Requirement already satisfied: filelock in /usr/local/lib/python3.11/dist-packages (from gdown->leafmap) (3.17.0)\n",
            "Requirement already satisfied: tqdm in /usr/local/lib/python3.11/dist-packages (from gdown->leafmap) (4.67.1)\n",
            "Requirement already satisfied: jupyter-leaflet<0.20,>=0.19 in /usr/local/lib/python3.11/dist-packages (from ipyleaflet->leafmap) (0.19.2)\n",
            "Collecting ipyvue<2,>=1.7 (from ipyvuetify->leafmap)\n",
            "  Downloading ipyvue-1.11.2-py2.py3-none-any.whl.metadata (1.1 kB)\n",
            "Requirement already satisfied: contourpy>=1.0.1 in /usr/local/lib/python3.11/dist-packages (from matplotlib->leafmap) (1.3.1)\n",
            "Requirement already satisfied: cycler>=0.10 in /usr/local/lib/python3.11/dist-packages (from matplotlib->leafmap) (0.12.1)\n",
            "Requirement already satisfied: fonttools>=4.22.0 in /usr/local/lib/python3.11/dist-packages (from matplotlib->leafmap) (4.55.7)\n",
            "Requirement already satisfied: kiwisolver>=1.3.1 in /usr/local/lib/python3.11/dist-packages (from matplotlib->leafmap) (1.4.8)\n",
            "Requirement already satisfied: packaging>=20.0 in /usr/local/lib/python3.11/dist-packages (from matplotlib->leafmap) (24.2)\n",
            "Requirement already satisfied: pillow>=8 in /usr/local/lib/python3.11/dist-packages (from matplotlib->leafmap) (11.1.0)\n",
            "Requirement already satisfied: pyparsing>=2.3.1 in /usr/local/lib/python3.11/dist-packages (from matplotlib->leafmap) (3.2.1)\n",
            "Requirement already satisfied: tenacity>=6.2.0 in /usr/local/lib/python3.11/dist-packages (from plotly->leafmap) (9.0.0)\n",
            "Collecting pystac>=1.10.0 (from pystac[validation]>=1.10.0->pystac-client->leafmap)\n",
            "  Downloading pystac-1.12.1-py3-none-any.whl.metadata (4.6 kB)\n",
            "Requirement already satisfied: ipytree in /usr/local/lib/python3.11/dist-packages (from whiteboxgui->leafmap) (0.2.2)\n",
            "Collecting whitebox (from whiteboxgui->leafmap)\n",
            "  Downloading whitebox-2.3.5-py2.py3-none-any.whl.metadata (10 kB)\n",
            "Requirement already satisfied: jupyter-client in /usr/local/lib/python3.11/dist-packages (from ipykernel>=4.5.1->ipywidgets->leafmap) (6.1.12)\n",
            "Requirement already satisfied: tornado>=4.2 in /usr/local/lib/python3.11/dist-packages (from ipykernel>=4.5.1->ipywidgets->leafmap) (6.4.2)\n",
            "Requirement already satisfied: setuptools>=18.5 in /usr/local/lib/python3.11/dist-packages (from ipython>=4.0.0->ipywidgets->leafmap) (75.1.0)\n",
            "Collecting jedi>=0.16 (from ipython>=4.0.0->ipywidgets->leafmap)\n",
            "  Downloading jedi-0.19.2-py2.py3-none-any.whl.metadata (22 kB)\n",
            "Requirement already satisfied: decorator in /usr/local/lib/python3.11/dist-packages (from ipython>=4.0.0->ipywidgets->leafmap) (4.4.2)\n",
            "Requirement already satisfied: pickleshare in /usr/local/lib/python3.11/dist-packages (from ipython>=4.0.0->ipywidgets->leafmap) (0.7.5)\n",
            "Requirement already satisfied: prompt-toolkit!=3.0.0,!=3.0.1,<3.1.0,>=2.0.0 in /usr/local/lib/python3.11/dist-packages (from ipython>=4.0.0->ipywidgets->leafmap) (3.0.50)\n",
            "Requirement already satisfied: pygments in /usr/local/lib/python3.11/dist-packages (from ipython>=4.0.0->ipywidgets->leafmap) (2.18.0)\n",
            "Requirement already satisfied: backcall in /usr/local/lib/python3.11/dist-packages (from ipython>=4.0.0->ipywidgets->leafmap) (0.2.0)\n",
            "Requirement already satisfied: matplotlib-inline in /usr/local/lib/python3.11/dist-packages (from ipython>=4.0.0->ipywidgets->leafmap) (0.1.7)\n",
            "Requirement already satisfied: pexpect>4.3 in /usr/local/lib/python3.11/dist-packages (from ipython>=4.0.0->ipywidgets->leafmap) (4.9.0)\n",
            "Requirement already satisfied: MarkupSafe>=2.0 in /usr/local/lib/python3.11/dist-packages (from jinja2>=2.9->folium->leafmap) (3.0.2)\n",
            "Requirement already satisfied: jsonschema~=4.18 in /usr/local/lib/python3.11/dist-packages (from pystac[validation]>=1.10.0->pystac-client->leafmap) (4.23.0)\n",
            "Requirement already satisfied: six>=1.5 in /usr/local/lib/python3.11/dist-packages (from python-dateutil>=2.8.2->pandas->leafmap) (1.17.0)\n",
            "Requirement already satisfied: charset-normalizer<4,>=2 in /usr/local/lib/python3.11/dist-packages (from requests->folium->leafmap) (3.4.1)\n",
            "Requirement already satisfied: idna<4,>=2.5 in /usr/local/lib/python3.11/dist-packages (from requests->folium->leafmap) (3.10)\n",
            "Requirement already satisfied: urllib3<3,>=1.21.1 in /usr/local/lib/python3.11/dist-packages (from requests->folium->leafmap) (2.3.0)\n",
            "Requirement already satisfied: certifi>=2017.4.17 in /usr/local/lib/python3.11/dist-packages (from requests->folium->leafmap) (2024.12.14)\n",
            "Requirement already satisfied: notebook>=4.4.1 in /usr/local/lib/python3.11/dist-packages (from widgetsnbextension~=3.6.0->ipywidgets->leafmap) (6.5.5)\n",
            "Requirement already satisfied: soupsieve>1.2 in /usr/local/lib/python3.11/dist-packages (from beautifulsoup4->gdown->leafmap) (2.6)\n",
            "Requirement already satisfied: PySocks!=1.5.7,>=1.5.6 in /usr/local/lib/python3.11/dist-packages (from requests[socks]->gdown->leafmap) (1.7.1)\n",
            "Requirement already satisfied: Click>=6.0 in /usr/local/lib/python3.11/dist-packages (from whitebox->whiteboxgui->leafmap) (8.1.8)\n",
            "Requirement already satisfied: parso<0.9.0,>=0.8.4 in /usr/local/lib/python3.11/dist-packages (from jedi>=0.16->ipython>=4.0.0->ipywidgets->leafmap) (0.8.4)\n",
            "Requirement already satisfied: attrs>=22.2.0 in /usr/local/lib/python3.11/dist-packages (from jsonschema~=4.18->pystac[validation]>=1.10.0->pystac-client->leafmap) (25.1.0)\n",
            "Requirement already satisfied: jsonschema-specifications>=2023.03.6 in /usr/local/lib/python3.11/dist-packages (from jsonschema~=4.18->pystac[validation]>=1.10.0->pystac-client->leafmap) (2024.10.1)\n",
            "Requirement already satisfied: referencing>=0.28.4 in /usr/local/lib/python3.11/dist-packages (from jsonschema~=4.18->pystac[validation]>=1.10.0->pystac-client->leafmap) (0.36.2)\n",
            "Requirement already satisfied: rpds-py>=0.7.1 in /usr/local/lib/python3.11/dist-packages (from jsonschema~=4.18->pystac[validation]>=1.10.0->pystac-client->leafmap) (0.22.3)\n",
            "Requirement already satisfied: pyzmq<25,>=17 in /usr/local/lib/python3.11/dist-packages (from notebook>=4.4.1->widgetsnbextension~=3.6.0->ipywidgets->leafmap) (24.0.1)\n",
            "Requirement already satisfied: argon2-cffi in /usr/local/lib/python3.11/dist-packages (from notebook>=4.4.1->widgetsnbextension~=3.6.0->ipywidgets->leafmap) (23.1.0)\n",
            "Requirement already satisfied: jupyter-core>=4.6.1 in /usr/local/lib/python3.11/dist-packages (from notebook>=4.4.1->widgetsnbextension~=3.6.0->ipywidgets->leafmap) (5.7.2)\n",
            "Requirement already satisfied: nbformat in /usr/local/lib/python3.11/dist-packages (from notebook>=4.4.1->widgetsnbextension~=3.6.0->ipywidgets->leafmap) (5.10.4)\n",
            "Requirement already satisfied: nbconvert>=5 in /usr/local/lib/python3.11/dist-packages (from notebook>=4.4.1->widgetsnbextension~=3.6.0->ipywidgets->leafmap) (7.16.6)\n",
            "Requirement already satisfied: nest-asyncio>=1.5 in /usr/local/lib/python3.11/dist-packages (from notebook>=4.4.1->widgetsnbextension~=3.6.0->ipywidgets->leafmap) (1.6.0)\n",
            "Requirement already satisfied: Send2Trash>=1.8.0 in /usr/local/lib/python3.11/dist-packages (from notebook>=4.4.1->widgetsnbextension~=3.6.0->ipywidgets->leafmap) (1.8.3)\n",
            "Requirement already satisfied: terminado>=0.8.3 in /usr/local/lib/python3.11/dist-packages (from notebook>=4.4.1->widgetsnbextension~=3.6.0->ipywidgets->leafmap) (0.18.1)\n",
            "Requirement already satisfied: prometheus-client in /usr/local/lib/python3.11/dist-packages (from notebook>=4.4.1->widgetsnbextension~=3.6.0->ipywidgets->leafmap) (0.21.1)\n",
            "Requirement already satisfied: nbclassic>=0.4.7 in /usr/local/lib/python3.11/dist-packages (from notebook>=4.4.1->widgetsnbextension~=3.6.0->ipywidgets->leafmap) (1.2.0)\n",
            "Requirement already satisfied: ptyprocess>=0.5 in /usr/local/lib/python3.11/dist-packages (from pexpect>4.3->ipython>=4.0.0->ipywidgets->leafmap) (0.7.0)\n",
            "Requirement already satisfied: wcwidth in /usr/local/lib/python3.11/dist-packages (from prompt-toolkit!=3.0.0,!=3.0.1,<3.1.0,>=2.0.0->ipython>=4.0.0->ipywidgets->leafmap) (0.2.13)\n",
            "Requirement already satisfied: platformdirs>=2.5 in /usr/local/lib/python3.11/dist-packages (from jupyter-core>=4.6.1->notebook>=4.4.1->widgetsnbextension~=3.6.0->ipywidgets->leafmap) (4.3.6)\n",
            "Requirement already satisfied: notebook-shim>=0.2.3 in /usr/local/lib/python3.11/dist-packages (from nbclassic>=0.4.7->notebook>=4.4.1->widgetsnbextension~=3.6.0->ipywidgets->leafmap) (0.2.4)\n",
            "Requirement already satisfied: bleach!=5.0.0 in /usr/local/lib/python3.11/dist-packages (from bleach[css]!=5.0.0->nbconvert>=5->notebook>=4.4.1->widgetsnbextension~=3.6.0->ipywidgets->leafmap) (6.2.0)\n",
            "Requirement already satisfied: defusedxml in /usr/local/lib/python3.11/dist-packages (from nbconvert>=5->notebook>=4.4.1->widgetsnbextension~=3.6.0->ipywidgets->leafmap) (0.7.1)\n",
            "Requirement already satisfied: jupyterlab-pygments in /usr/local/lib/python3.11/dist-packages (from nbconvert>=5->notebook>=4.4.1->widgetsnbextension~=3.6.0->ipywidgets->leafmap) (0.3.0)\n",
            "Requirement already satisfied: mistune<4,>=2.0.3 in /usr/local/lib/python3.11/dist-packages (from nbconvert>=5->notebook>=4.4.1->widgetsnbextension~=3.6.0->ipywidgets->leafmap) (3.1.1)\n",
            "Requirement already satisfied: nbclient>=0.5.0 in /usr/local/lib/python3.11/dist-packages (from nbconvert>=5->notebook>=4.4.1->widgetsnbextension~=3.6.0->ipywidgets->leafmap) (0.10.2)\n",
            "Requirement already satisfied: pandocfilters>=1.4.1 in /usr/local/lib/python3.11/dist-packages (from nbconvert>=5->notebook>=4.4.1->widgetsnbextension~=3.6.0->ipywidgets->leafmap) (1.5.1)\n",
            "Requirement already satisfied: fastjsonschema>=2.15 in /usr/local/lib/python3.11/dist-packages (from nbformat->notebook>=4.4.1->widgetsnbextension~=3.6.0->ipywidgets->leafmap) (2.21.1)\n",
            "Requirement already satisfied: argon2-cffi-bindings in /usr/local/lib/python3.11/dist-packages (from argon2-cffi->notebook>=4.4.1->widgetsnbextension~=3.6.0->ipywidgets->leafmap) (21.2.0)\n",
            "Requirement already satisfied: webencodings in /usr/local/lib/python3.11/dist-packages (from bleach!=5.0.0->bleach[css]!=5.0.0->nbconvert>=5->notebook>=4.4.1->widgetsnbextension~=3.6.0->ipywidgets->leafmap) (0.5.1)\n",
            "Requirement already satisfied: tinycss2<1.5,>=1.1.0 in /usr/local/lib/python3.11/dist-packages (from bleach[css]!=5.0.0->nbconvert>=5->notebook>=4.4.1->widgetsnbextension~=3.6.0->ipywidgets->leafmap) (1.4.0)\n",
            "Requirement already satisfied: jupyter-server<3,>=1.8 in /usr/local/lib/python3.11/dist-packages (from notebook-shim>=0.2.3->nbclassic>=0.4.7->notebook>=4.4.1->widgetsnbextension~=3.6.0->ipywidgets->leafmap) (1.24.0)\n",
            "Requirement already satisfied: cffi>=1.0.1 in /usr/local/lib/python3.11/dist-packages (from argon2-cffi-bindings->argon2-cffi->notebook>=4.4.1->widgetsnbextension~=3.6.0->ipywidgets->leafmap) (1.17.1)\n",
            "Requirement already satisfied: pycparser in /usr/local/lib/python3.11/dist-packages (from cffi>=1.0.1->argon2-cffi-bindings->argon2-cffi->notebook>=4.4.1->widgetsnbextension~=3.6.0->ipywidgets->leafmap) (2.22)\n",
            "Requirement already satisfied: anyio<4,>=3.1.0 in /usr/local/lib/python3.11/dist-packages (from jupyter-server<3,>=1.8->notebook-shim>=0.2.3->nbclassic>=0.4.7->notebook>=4.4.1->widgetsnbextension~=3.6.0->ipywidgets->leafmap) (3.7.1)\n",
            "Requirement already satisfied: websocket-client in /usr/local/lib/python3.11/dist-packages (from jupyter-server<3,>=1.8->notebook-shim>=0.2.3->nbclassic>=0.4.7->notebook>=4.4.1->widgetsnbextension~=3.6.0->ipywidgets->leafmap) (1.8.0)\n",
            "Requirement already satisfied: sniffio>=1.1 in /usr/local/lib/python3.11/dist-packages (from anyio<4,>=3.1.0->jupyter-server<3,>=1.8->notebook-shim>=0.2.3->nbclassic>=0.4.7->notebook>=4.4.1->widgetsnbextension~=3.6.0->ipywidgets->leafmap) (1.3.1)\n",
            "Downloading leafmap-0.42.9-py2.py3-none-any.whl (515 kB)\n",
            "\u001b[2K   \u001b[90m━━━━━━━━━━━━━━━━━━━━━━━━━━━━━━━━━━━━━━━━\u001b[0m \u001b[32m515.2/515.2 kB\u001b[0m \u001b[31m23.2 MB/s\u001b[0m eta \u001b[36m0:00:00\u001b[0m\n",
            "\u001b[?25hDownloading anywidget-0.9.13-py3-none-any.whl (213 kB)\n",
            "\u001b[2K   \u001b[90m━━━━━━━━━━━━━━━━━━━━━━━━━━━━━━━━━━━━━━━━\u001b[0m \u001b[32m213.7/213.7 kB\u001b[0m \u001b[31m17.1 MB/s\u001b[0m eta \u001b[36m0:00:00\u001b[0m\n",
            "\u001b[?25hDownloading geojson-3.2.0-py3-none-any.whl (15 kB)\n",
            "Downloading ipyvuetify-1.10.0-py2.py3-none-any.whl (6.1 MB)\n",
            "\u001b[2K   \u001b[90m━━━━━━━━━━━━━━━━━━━━━━━━━━━━━━━━━━━━━━━━\u001b[0m \u001b[32m6.1/6.1 MB\u001b[0m \u001b[31m95.8 MB/s\u001b[0m eta \u001b[36m0:00:00\u001b[0m\n",
            "\u001b[?25hDownloading pystac_client-0.8.5-py3-none-any.whl (41 kB)\n",
            "\u001b[2K   \u001b[90m━━━━━━━━━━━━━━━━━━━━━━━━━━━━━━━━━━━━━━━━\u001b[0m \u001b[32m41.9/41.9 kB\u001b[0m \u001b[31m3.9 MB/s\u001b[0m eta \u001b[36m0:00:00\u001b[0m\n",
            "\u001b[?25hDownloading whiteboxgui-2.3.0-py2.py3-none-any.whl (108 kB)\n",
            "\u001b[2K   \u001b[90m━━━━━━━━━━━━━━━━━━━━━━━━━━━━━━━━━━━━━━━━\u001b[0m \u001b[32m108.6/108.6 kB\u001b[0m \u001b[31m10.7 MB/s\u001b[0m eta \u001b[36m0:00:00\u001b[0m\n",
            "\u001b[?25hDownloading ipyvue-1.11.2-py2.py3-none-any.whl (2.7 MB)\n",
            "\u001b[2K   \u001b[90m━━━━━━━━━━━━━━━━━━━━━━━━━━━━━━━━━━━━━━━━\u001b[0m \u001b[32m2.7/2.7 MB\u001b[0m \u001b[31m82.3 MB/s\u001b[0m eta \u001b[36m0:00:00\u001b[0m\n",
            "\u001b[?25hDownloading psygnal-0.12.0-cp311-cp311-manylinux_2_17_x86_64.manylinux2014_x86_64.whl (765 kB)\n",
            "\u001b[2K   \u001b[90m━━━━━━━━━━━━━━━━━━━━━━━━━━━━━━━━━━━━━━━━\u001b[0m \u001b[32m765.5/765.5 kB\u001b[0m \u001b[31m43.6 MB/s\u001b[0m eta \u001b[36m0:00:00\u001b[0m\n",
            "\u001b[?25hDownloading pystac-1.12.1-py3-none-any.whl (194 kB)\n",
            "\u001b[2K   \u001b[90m━━━━━━━━━━━━━━━━━━━━━━━━━━━━━━━━━━━━━━━━\u001b[0m \u001b[32m194.2/194.2 kB\u001b[0m \u001b[31m18.0 MB/s\u001b[0m eta \u001b[36m0:00:00\u001b[0m\n",
            "\u001b[?25hDownloading whitebox-2.3.5-py2.py3-none-any.whl (72 kB)\n",
            "\u001b[2K   \u001b[90m━━━━━━━━━━━━━━━━━━━━━━━━━━━━━━━━━━━━━━━━\u001b[0m \u001b[32m72.4/72.4 kB\u001b[0m \u001b[31m7.4 MB/s\u001b[0m eta \u001b[36m0:00:00\u001b[0m\n",
            "\u001b[?25hDownloading jedi-0.19.2-py2.py3-none-any.whl (1.6 MB)\n",
            "\u001b[2K   \u001b[90m━━━━━━━━━━━━━━━━━━━━━━━━━━━━━━━━━━━━━━━━\u001b[0m \u001b[32m1.6/1.6 MB\u001b[0m \u001b[31m69.2 MB/s\u001b[0m eta \u001b[36m0:00:00\u001b[0m\n",
            "\u001b[?25hInstalling collected packages: whitebox, psygnal, jedi, geojson, pystac, pystac-client, ipyvue, anywidget, whiteboxgui, ipyvuetify, leafmap\n",
            "Successfully installed anywidget-0.9.13 geojson-3.2.0 ipyvue-1.11.2 ipyvuetify-1.10.0 jedi-0.19.2 leafmap-0.42.9 psygnal-0.12.0 pystac-1.12.1 pystac-client-0.8.5 whitebox-2.3.5 whiteboxgui-2.3.0\n"
          ]
        }
      ],
      "source": [
        "!pip install leafmap # Install the leafmap package\n",
        "import duckdb\n",
        "import leafmap"
      ],
      "id": "aGYpKbOtVZ1P"
    },
    {
      "cell_type": "markdown",
      "metadata": {
        "id": "St3oUwUhVZ1P"
      },
      "source": [
        "## Sample Data\n",
        "\n",
        "The datasets in the database are in NAD83 / UTM zone 18N projection, EPSG:26918."
      ],
      "id": "St3oUwUhVZ1P"
    },
    {
      "cell_type": "code",
      "execution_count": 5,
      "metadata": {
        "id": "SDRTNgvNVZ1P",
        "outputId": "d4fa197e-3882-4a28-e055-145a1278bd9a",
        "colab": {
          "base_uri": "https://localhost:8080/",
          "height": 125
        }
      },
      "outputs": [
        {
          "output_type": "stream",
          "name": "stderr",
          "text": [
            "Downloading...\n",
            "From: https://open.gishub.org/data/duckdb/nyc_data.db.zip\n",
            "To: /content/nyc_data.db.zip\n",
            "100%|██████████| 8.60M/8.60M [00:00<00:00, 341MB/s]"
          ]
        },
        {
          "output_type": "stream",
          "name": "stdout",
          "text": [
            "Extracting files...\n"
          ]
        },
        {
          "output_type": "stream",
          "name": "stderr",
          "text": [
            "\n"
          ]
        },
        {
          "output_type": "execute_result",
          "data": {
            "text/plain": [
              "'/content/nyc_data.db.zip'"
            ],
            "application/vnd.google.colaboratory.intrinsic+json": {
              "type": "string"
            }
          },
          "metadata": {},
          "execution_count": 5
        }
      ],
      "source": [
        "url = \"https://open.gishub.org/data/duckdb/nyc_data.db.zip\"\n",
        "leafmap.download_file(url, unzip=True)"
      ],
      "id": "SDRTNgvNVZ1P"
    },
    {
      "cell_type": "markdown",
      "metadata": {
        "id": "AcUtMgSaVZ1Q"
      },
      "source": [
        "## Connecting to DuckDB\n",
        "\n",
        "Connect jupysql to DuckDB using a SQLAlchemy-style connection string. You may either connect to an in memory DuckDB, or a file backed db."
      ],
      "id": "AcUtMgSaVZ1Q"
    },
    {
      "cell_type": "code",
      "execution_count": 6,
      "metadata": {
        "id": "LaXSErEyVZ1Q"
      },
      "outputs": [],
      "source": [
        "con = duckdb.connect('nyc_data.db')"
      ],
      "id": "LaXSErEyVZ1Q"
    },
    {
      "cell_type": "code",
      "execution_count": 7,
      "metadata": {
        "id": "8frWohMNVZ1Q"
      },
      "outputs": [],
      "source": [
        "con.install_extension('spatial')\n",
        "con.load_extension('spatial')"
      ],
      "id": "8frWohMNVZ1Q"
    },
    {
      "cell_type": "code",
      "execution_count": 8,
      "metadata": {
        "id": "b-xfO5ERVZ1R",
        "outputId": "81c6fdc9-0589-4afe-a093-79aa51c44b83",
        "colab": {
          "base_uri": "https://localhost:8080/"
        }
      },
      "outputs": [
        {
          "output_type": "execute_result",
          "data": {
            "text/plain": [
              "┌─────────────────────┐\n",
              "│        name         │\n",
              "│       varchar       │\n",
              "├─────────────────────┤\n",
              "│ nyc_census_blocks   │\n",
              "│ nyc_homicides       │\n",
              "│ nyc_neighborhoods   │\n",
              "│ nyc_streets         │\n",
              "│ nyc_subway_stations │\n",
              "└─────────────────────┘"
            ]
          },
          "metadata": {},
          "execution_count": 8
        }
      ],
      "source": [
        "con.sql(\"SHOW TABLES;\")"
      ],
      "id": "b-xfO5ERVZ1R"
    },
    {
      "cell_type": "code",
      "source": [
        "con.sql(\"\"\"\n",
        "\n",
        "SELECT n.name AS neighborhood, n.boroname AS borough\n",
        "FROM nyc_neighborhoods n\n",
        "JOIN nyc_streets s ON ST_Intersects(n.geom, s.geom)\n",
        "WHERE s.name = 'Atlantic Commons';\n",
        "\n",
        "\"\"\")"
      ],
      "metadata": {
        "id": "qzofaDvmdeXc",
        "outputId": "e16550ca-7ac0-48ea-879d-4bcfdd05b2a7",
        "colab": {
          "base_uri": "https://localhost:8080/"
        }
      },
      "id": "qzofaDvmdeXc",
      "execution_count": 10,
      "outputs": [
        {
          "output_type": "execute_result",
          "data": {
            "text/plain": [
              "┌──────────────┬──────────┐\n",
              "│ neighborhood │ borough  │\n",
              "│   varchar    │ varchar  │\n",
              "├──────────────┼──────────┤\n",
              "│ Fort Green   │ Brooklyn │\n",
              "└──────────────┴──────────┘"
            ]
          },
          "metadata": {},
          "execution_count": 10
        }
      ]
    },
    {
      "cell_type": "code",
      "source": [
        "con.sql(\"\"\"\n",
        "\n",
        "SELECT s2.name\n",
        "FROM nyc_streets s1\n",
        "JOIN nyc_streets s2\n",
        "ON ST_Touches(s1.geom, s2.geom)\n",
        "WHERE s1.name = 'Atlantic Commons';\n",
        "\n",
        "\"\"\")"
      ],
      "metadata": {
        "id": "Szq8HnnqeQ9C",
        "outputId": "85281ac6-0e2e-4071-dd4e-10aaa2e9f9d8",
        "colab": {
          "base_uri": "https://localhost:8080/"
        }
      },
      "id": "Szq8HnnqeQ9C",
      "execution_count": 11,
      "outputs": [
        {
          "output_type": "execute_result",
          "data": {
            "text/plain": [
              "┌───────────────┐\n",
              "│     NAME      │\n",
              "│    varchar    │\n",
              "├───────────────┤\n",
              "│ S Oxford St   │\n",
              "│ Cumberland St │\n",
              "└───────────────┘"
            ]
          },
          "metadata": {},
          "execution_count": 11
        }
      ]
    },
    {
      "cell_type": "code",
      "source": [
        "con.sql(\"\"\"\n",
        "\n",
        "SELECT SUM(popn_total)\n",
        "FROM nyc_census_blocks cb\n",
        "JOIN nyc_streets s\n",
        "ON ST_DWithin(cb.geom, s.geom, 50)\n",
        "WHERE s.name = 'Atlantic Commons';\n",
        "\n",
        "\"\"\")"
      ],
      "metadata": {
        "id": "eHXL0Dq2ektE",
        "outputId": "5b442886-f7bb-4204-ddd4-a61f94569658",
        "colab": {
          "base_uri": "https://localhost:8080/"
        }
      },
      "id": "eHXL0Dq2ektE",
      "execution_count": 14,
      "outputs": [
        {
          "output_type": "execute_result",
          "data": {
            "text/plain": [
              "┌─────────────────┐\n",
              "│ sum(popn_total) │\n",
              "│     int128      │\n",
              "├─────────────────┤\n",
              "│            1438 │\n",
              "└─────────────────┘"
            ]
          },
          "metadata": {},
          "execution_count": 14
        }
      ]
    },
    {
      "cell_type": "code",
      "source": [
        "con.sql(\"\"\"\n",
        "\n",
        "SELECT ST_GeometryType(geom)\n",
        "  FROM nyc_streets\n",
        "  WHERE name = 'Atlantic Commons';\n",
        "\n",
        "\"\"\")"
      ],
      "metadata": {
        "id": "8q4zCtc5ca4U",
        "outputId": "bf48a674-867f-4ef2-9a21-9a30921db803",
        "colab": {
          "base_uri": "https://localhost:8080/"
        }
      },
      "id": "8q4zCtc5ca4U",
      "execution_count": 9,
      "outputs": [
        {
          "output_type": "execute_result",
          "data": {
            "text/plain": [
              "┌───────────────────────┐\n",
              "│ st_geometrytype(geom) │\n",
              "│     geometry_type     │\n",
              "├───────────────────────┤\n",
              "│ MULTILINESTRING       │\n",
              "└───────────────────────┘"
            ]
          },
          "metadata": {},
          "execution_count": 9
        }
      ]
    },
    {
      "cell_type": "code",
      "execution_count": null,
      "metadata": {
        "scrolled": false,
        "id": "I23epHw9VZ1R",
        "outputId": "0c69b9c7-c9ed-4e06-e70d-e16fc5517b1f"
      },
      "outputs": [
        {
          "data": {
            "text/plain": [
              "┌──────────┬────────┬──────────────┬─────────────────┬───┬─────────┬─────────┬─────────┬──────────────────────┐\n",
              "│ OBJECTID │   ID   │     NAME     │    ALT_NAME     │ … │  COLOR  │ EXPRESS │ CLOSED  │         geom         │\n",
              "│  double  │ double │   varchar    │     varchar     │   │ varchar │ varchar │ varchar │       geometry       │\n",
              "├──────────┼────────┼──────────────┼─────────────────┼───┼─────────┼─────────┼─────────┼──────────────────────┤\n",
              "│      1.0 │  376.0 │ Cortlandt St │ NULL            │ … │ YELLOW  │ NULL    │ NULL    │ POINT (583521.8544…  │\n",
              "│      2.0 │    2.0 │ Rector St    │ NULL            │ … │ RED     │ NULL    │ NULL    │ POINT (583324.4866…  │\n",
              "│      3.0 │    1.0 │ South Ferry  │ NULL            │ … │ RED     │ NULL    │ NULL    │ POINT (583304.1823…  │\n",
              "│      4.0 │  125.0 │ 138th St     │ Grand Concourse │ … │ GREEN   │ NULL    │ NULL    │ POINT (590250.1059…  │\n",
              "│      5.0 │  126.0 │ 149th St     │ Grand Concourse │ … │ GREEN   │ express │ NULL    │ POINT (590454.7399…  │\n",
              "├──────────┴────────┴──────────────┴─────────────────┴───┴─────────┴─────────┴─────────┴──────────────────────┤\n",
              "│ 5 rows                                                                                 15 columns (8 shown) │\n",
              "└─────────────────────────────────────────────────────────────────────────────────────────────────────────────┘"
            ]
          },
          "execution_count": 7,
          "metadata": {},
          "output_type": "execute_result"
        }
      ],
      "source": [
        "con.sql(\"SELECT * from nyc_subway_stations LIMIT 5\")"
      ],
      "id": "I23epHw9VZ1R"
    },
    {
      "cell_type": "markdown",
      "metadata": {
        "id": "MydahX6TVZ1R"
      },
      "source": [
        "## Spatial Relationships\n",
        "\n",
        "So far we have only used spatial functions that measure (`ST_Area`,\n",
        "`ST_Length`), serialize (`ST_GeomFromText`) or deserialize (`ST_AsGML`)\n",
        "geometries. What these functions have in common is that they only work\n",
        "on one geometry at a time.\n",
        "\n",
        "Spatial databases are powerful because they not only store geometry,\n",
        "they also have the ability to compare *relationships between\n",
        "geometries*.\n",
        "\n",
        "Questions like \"Which are the closest bike racks to a park?\" or \"Where\n",
        "are the intersections of subway lines and streets?\" can only be answered\n",
        "by comparing geometries representing the bike racks, streets, and subway\n",
        "lines.\n",
        "\n",
        "The OGC standard defines the following set of methods to compare\n",
        "geometries."
      ],
      "id": "MydahX6TVZ1R"
    },
    {
      "cell_type": "markdown",
      "metadata": {
        "id": "5V5baH2LVZ1R"
      },
      "source": [
        "## ST_Equals\n",
        "\n",
        "`ST_Equals(geometry A, geometry B)`tests the spatial equality of two geometries.\n",
        "\n",
        "![](https://postgis.net/workshops/postgis-intro/_images/st_equals.png)\n",
        "\n",
        "ST_Equals returns TRUE if two geometries of the same type have identical\n",
        "x,y coordinate values, i.e. if the second shape is equal (identical) to\n",
        "the first shape.\n",
        "\n",
        "First, let\\'s retrieve a representation of a point from our\n",
        "`nyc_subway_stations` table. We\\'ll take just the entry for \\'Broad\n",
        "St\\'."
      ],
      "id": "5V5baH2LVZ1R"
    },
    {
      "cell_type": "code",
      "execution_count": null,
      "metadata": {
        "id": "qiXpvDuDVZ1R",
        "outputId": "79ef5fa1-7d8f-429c-8ee3-932b62fbdc45"
      },
      "outputs": [
        {
          "data": {
            "text/plain": [
              "┌──────────┬─────────────────────────────────────────────┬─────────────────────────────────────────────┐\n",
              "│   NAME   │                    geom                     │               st_astext(geom)               │\n",
              "│ varchar  │                  geometry                   │                   varchar                   │\n",
              "├──────────┼─────────────────────────────────────────────┼─────────────────────────────────────────────┤\n",
              "│ Broad St │ POINT (583571.9059213118 4506714.341192182) │ POINT (583571.9059213118 4506714.341192182) │\n",
              "└──────────┴─────────────────────────────────────────────┴─────────────────────────────────────────────┘"
            ]
          },
          "execution_count": 8,
          "metadata": {},
          "output_type": "execute_result"
        }
      ],
      "source": [
        "con.sql(\"\"\"\n",
        "SELECT name, geom, ST_AsText(geom)\n",
        "FROM nyc_subway_stations\n",
        "WHERE name = 'Broad St';\n",
        "\"\"\")"
      ],
      "id": "qiXpvDuDVZ1R"
    },
    {
      "cell_type": "markdown",
      "metadata": {
        "id": "Wmg_Hs1aVZ1R"
      },
      "source": [
        "Then, plug the geometry representation back into an\n",
        "`ST_Equals` test:"
      ],
      "id": "Wmg_Hs1aVZ1R"
    },
    {
      "cell_type": "code",
      "execution_count": null,
      "metadata": {
        "id": "pm41HV5dVZ1R",
        "outputId": "5f44158f-b669-4505-afbc-59b30bbace0f"
      },
      "outputs": [
        {
          "data": {
            "text/plain": [
              "┌──────────┐\n",
              "│   NAME   │\n",
              "│ varchar  │\n",
              "├──────────┤\n",
              "│ Broad St │\n",
              "└──────────┘"
            ]
          },
          "execution_count": 9,
          "metadata": {},
          "output_type": "execute_result"
        }
      ],
      "source": [
        "con.sql(\"\"\"\n",
        "SELECT name\n",
        "FROM nyc_subway_stations\n",
        "WHERE ST_Equals(geom, ST_GeomFromText('POINT (583571.9059213118 4506714.341192182)'));\n",
        "\"\"\")"
      ],
      "id": "pm41HV5dVZ1R"
    },
    {
      "cell_type": "markdown",
      "metadata": {
        "id": "65suUP0VVZ1S"
      },
      "source": [
        "## ST_Intersects, ST_Disjoint, ST_Crosses and ST_Overlaps\n",
        "\n",
        "`ST_Intersects`,\n",
        "`ST_Crosses`, and\n",
        "`ST_Overlaps` test whether the\n",
        "interiors of the geometries intersect.\n",
        "\n",
        "![](https://postgis.net/workshops/postgis-intro/_images/st_intersects.png)\n",
        "\n",
        "`ST_Intersects(geometry A, geometry B)` returns t (TRUE) if the two shapes have any space in\n",
        "common, i.e., if their boundaries or interiors intersect.\n",
        "\n",
        "![](https://postgis.net/workshops/postgis-intro/_images/st_disjoint.png)\n",
        "\n",
        "The opposite of ST_Intersects is\n",
        "`ST_Disjoint(geometry A , geometry B)`. If two geometries are disjoint, they do not intersect,\n",
        "and vice-versa. In fact, it is often more efficient to test \\\"not\n",
        "intersects\\\" than to test \\\"disjoint\\\" because the intersects tests can\n",
        "be spatially indexed, while the disjoint test cannot.\n",
        "\n",
        "![](https://postgis.net/workshops/postgis-intro/_images/st_crosses.png)\n",
        "\n",
        "For multipoint/polygon, multipoint/linestring, linestring/linestring,\n",
        "linestring/polygon, and linestring/multipolygon comparisons,\n",
        "`ST_Crosses(geometry A, geometry B)`\n",
        "returns t (TRUE) if the intersection results in a geometry whose\n",
        "dimension is one less than the maximum dimension of the two source\n",
        "geometries and the intersection set is interior to both source\n",
        "geometries.\n",
        "\n",
        "![](https://postgis.net/workshops/postgis-intro/_images/st_overlaps.png)\n",
        "\n",
        "`ST_Overlaps(geometry A, geometry B)`\n",
        "compares two geometries of the same dimension and returns TRUE if their\n",
        "intersection set results in a geometry different from both but of the\n",
        "same dimension.\n",
        "\n",
        "Let\\'s take our Broad Street subway station and determine its\n",
        "neighborhood using the `ST_Intersects`\n",
        "function:"
      ],
      "id": "65suUP0VVZ1S"
    },
    {
      "cell_type": "code",
      "execution_count": null,
      "metadata": {
        "id": "6AgA38bEVZ1S",
        "outputId": "c51c44e1-c671-410a-d2fd-8b374bab0943"
      },
      "outputs": [
        {
          "data": {
            "text/plain": [
              "┌──────────┬─────────────────────────────────────────────┐\n",
              "│   NAME   │               st_astext(geom)               │\n",
              "│ varchar  │                   varchar                   │\n",
              "├──────────┼─────────────────────────────────────────────┤\n",
              "│ Broad St │ POINT (583571.9059213118 4506714.341192182) │\n",
              "└──────────┴─────────────────────────────────────────────┘"
            ]
          },
          "execution_count": 10,
          "metadata": {},
          "output_type": "execute_result"
        }
      ],
      "source": [
        "con.sql(\"\"\"\n",
        "SELECT name, ST_AsText(geom)\n",
        "FROM nyc_subway_stations\n",
        "WHERE name = 'Broad St';\n",
        "\"\"\")"
      ],
      "id": "6AgA38bEVZ1S"
    },
    {
      "cell_type": "code",
      "execution_count": null,
      "metadata": {
        "id": "gluVg91ZVZ1S",
        "outputId": "eb635a08-adeb-43dc-8b0c-3f7226c4b84f"
      },
      "outputs": [
        {
          "data": {
            "text/plain": [
              "┌───────────┬──────────────────────┬───────────────────────────────────────────────────────────────────────────────────┐\n",
              "│ BORONAME  │         NAME         │                                       geom                                        │\n",
              "│  varchar  │       varchar        │                                     geometry                                      │\n",
              "├───────────┼──────────────────────┼───────────────────────────────────────────────────────────────────────────────────┤\n",
              "│ Brooklyn  │ Bensonhurst          │ MULTIPOLYGON (((582771.4257198056 4495167.427365481, 584651.2943549604 4497541.…  │\n",
              "│ Manhattan │ East Village         │ MULTIPOLYGON (((585508.7534890148 4509691.267208001, 586826.3570590394 4508984.…  │\n",
              "│ Manhattan │ West Village         │ MULTIPOLYGON (((583263.2776595836 4509242.626023987, 583276.8199068634 4509378.…  │\n",
              "│ The Bronx │ Throggs Neck         │ MULTIPOLYGON (((597640.0090688139 4520272.719938631, 597647.7457808304 4520617.…  │\n",
              "│ The Bronx │ Wakefield-Williams…  │ MULTIPOLYGON (((595285.2053417757 4525938.79838847, 595348.5452399419 4526158.7…  │\n",
              "└───────────┴──────────────────────┴───────────────────────────────────────────────────────────────────────────────────┘"
            ]
          },
          "execution_count": 11,
          "metadata": {},
          "output_type": "execute_result"
        }
      ],
      "source": [
        "con.sql(\"FROM nyc_neighborhoods LIMIT 5\")"
      ],
      "id": "gluVg91ZVZ1S"
    },
    {
      "cell_type": "code",
      "execution_count": null,
      "metadata": {
        "id": "Z85vC9QhVZ1S",
        "outputId": "66150ac5-0acb-4c8b-ccfe-d6944834a112"
      },
      "outputs": [
        {
          "data": {
            "text/plain": [
              "┌────────────────────┬───────────┐\n",
              "│        NAME        │ BORONAME  │\n",
              "│      varchar       │  varchar  │\n",
              "├────────────────────┼───────────┤\n",
              "│ Financial District │ Manhattan │\n",
              "└────────────────────┴───────────┘"
            ]
          },
          "execution_count": 12,
          "metadata": {},
          "output_type": "execute_result"
        }
      ],
      "source": [
        "con.sql(\"\"\"\n",
        "SELECT name, boroname\n",
        "FROM nyc_neighborhoods\n",
        "WHERE ST_Intersects(geom, ST_GeomFromText('POINT(583571 4506714)'));\n",
        "\"\"\")"
      ],
      "id": "Z85vC9QhVZ1S"
    },
    {
      "cell_type": "markdown",
      "metadata": {
        "id": "-2gBA8Z2VZ1S"
      },
      "source": [
        "## ST_Touches\n",
        "\n",
        "`ST_Touches` tests whether two\n",
        "geometries touch at their boundaries, but do not intersect in their\n",
        "interiors\n",
        "\n",
        "![](https://postgis.net/workshops/postgis-intro/_images/st_touches.png)\n",
        "\n",
        "`ST_Touches(geometry A, geometry B)`\n",
        "returns TRUE if either of the geometries\\' boundaries intersect or if\n",
        "only one of the geometry\\'s interiors intersects the other\\'s boundary.\n",
        "\n",
        "## ST_Within and ST_Contains\n",
        "\n",
        "`ST_Within` and\n",
        "`ST_Contains` test whether one\n",
        "geometry is fully within the other.\n",
        "\n",
        "![](https://postgis.net/workshops/postgis-intro/_images/st_within.png)\n",
        "\n",
        "`ST_Within(geometry A , geometry B)`\n",
        "returns TRUE if the first geometry is completely within the second\n",
        "geometry. ST_Within tests for the exact opposite result of ST_Contains.\n",
        "\n",
        "`ST_Contains(geometry A, geometry B)`\n",
        "returns TRUE if the second geometry is completely contained by the first\n",
        "geometry.\n",
        "\n",
        "## ST_Distance and ST_DWithin\n",
        "\n",
        "An extremely common GIS question is \\\"find all the stuff within distance\n",
        "X of this other stuff\\\".\n",
        "\n",
        "The `ST_Distance(geometry A, geometry B)` calculates the *shortest* distance between two\n",
        "geometries and returns it as a float. This is useful for actually\n",
        "reporting back the distance between objects."
      ],
      "id": "-2gBA8Z2VZ1S"
    },
    {
      "cell_type": "code",
      "execution_count": null,
      "metadata": {
        "id": "NQd_TlQBVZ1S",
        "outputId": "826660a5-7b0c-4810-f8e1-37d855d24200"
      },
      "outputs": [
        {
          "data": {
            "text/plain": [
              "┌────────┐\n",
              "│  dist  │\n",
              "│ double │\n",
              "├────────┤\n",
              "│    3.0 │\n",
              "└────────┘"
            ]
          },
          "execution_count": 13,
          "metadata": {},
          "output_type": "execute_result"
        }
      ],
      "source": [
        "con.sql(\"\"\"\n",
        "SELECT ST_Distance(\n",
        "  ST_GeomFromText('POINT(0 5)'),\n",
        "  ST_GeomFromText('LINESTRING(-2 2, 2 2)')) as dist;\n",
        "\"\"\")"
      ],
      "id": "NQd_TlQBVZ1S"
    },
    {
      "cell_type": "markdown",
      "metadata": {
        "id": "8EGXCS5KVZ1S"
      },
      "source": [
        "For testing whether two objects are within a distance of one another,\n",
        "the `ST_DWithin` function provides an\n",
        "index-accelerated true/false test. This is useful for questions like\n",
        "\\\"how many trees are within a 500 meter buffer of the road?\\\". You\n",
        "don\\'t have to calculate an actual buffer, you just have to test the\n",
        "distance relationship.\n",
        "\n",
        "![](https://postgis.net/workshops/postgis-intro/_images/st_dwithin.png)\n",
        "\n",
        "Using our Broad Street subway station again, we can find the streets\n",
        "nearby (within 10 meters of) the subway stop:"
      ],
      "id": "8EGXCS5KVZ1S"
    },
    {
      "cell_type": "code",
      "execution_count": null,
      "metadata": {
        "id": "GAcA7vGnVZ1S",
        "outputId": "de0e24ef-a452-467b-c4ce-6ba03e38057c"
      },
      "outputs": [
        {
          "data": {
            "text/plain": [
              "┌───────┬─────────────┬─────────┬───────────────┬──────────────────────────────────────────────────────────────────────┐\n",
              "│  ID   │    NAME     │ ONEWAY  │     TYPE      │                                 geom                                 │\n",
              "│ int32 │   varchar   │ varchar │    varchar    │                               geometry                               │\n",
              "├───────┼─────────────┼─────────┼───────────────┼──────────────────────────────────────────────────────────────────────┤\n",
              "│     1 │ Shore Pky S │ NULL    │ residential   │ MULTILINESTRING ((586785.4767897038 4492901.0014554765, 586898.232…  │\n",
              "│     2 │ NULL        │ NULL    │ footway       │ MULTILINESTRING ((586645.0073625665 4504977.750360583, 586664.2248…  │\n",
              "│     3 │ Avenue O    │ NULL    │ residential   │ MULTILINESTRING ((586750.3019977848 4496109.72213903, 586837.37268…  │\n",
              "│     4 │ Walsh Ct    │ NULL    │ residential   │ MULTILINESTRING ((586728.695515043 4497971.05313857, 586886.358225…  │\n",
              "│     5 │ NULL        │ NULL    │ motorway_link │ MULTILINESTRING ((586587.0531467082 4510088.250402982, 586641.7339…  │\n",
              "└───────┴─────────────┴─────────┴───────────────┴──────────────────────────────────────────────────────────────────────┘"
            ]
          },
          "execution_count": 14,
          "metadata": {},
          "output_type": "execute_result"
        }
      ],
      "source": [
        "con.sql(\"FROM nyc_streets LIMIT 5\")"
      ],
      "id": "GAcA7vGnVZ1S"
    },
    {
      "cell_type": "code",
      "execution_count": null,
      "metadata": {
        "id": "RIFRkGfsVZ1S",
        "outputId": "b351d7b8-3ed3-40b9-c171-78f9c663b757"
      },
      "outputs": [
        {
          "data": {
            "text/plain": [
              "┌───────────┐\n",
              "│   NAME    │\n",
              "│  varchar  │\n",
              "├───────────┤\n",
              "│ Wall St   │\n",
              "│ Broad St  │\n",
              "│ Nassau St │\n",
              "└───────────┘"
            ]
          },
          "execution_count": 15,
          "metadata": {},
          "output_type": "execute_result"
        }
      ],
      "source": [
        "con.sql(\"\"\"\n",
        "SELECT name\n",
        "FROM nyc_streets\n",
        "WHERE ST_DWithin(\n",
        "        geom,\n",
        "        ST_GeomFromText('POINT(583571 4506714)'),\n",
        "        10\n",
        "      );\n",
        "\"\"\")"
      ],
      "id": "RIFRkGfsVZ1S"
    },
    {
      "cell_type": "markdown",
      "metadata": {
        "id": "NJMXcGvLVZ1S"
      },
      "source": [
        "And we can verify the answer on a map. The Broad St station is actually\n",
        "at the intersection of Wall, Broad and Nassau Streets.\n",
        "\n",
        "![image](https://postgis.net/workshops/postgis-intro/_images/broad_st.jpg)\n",
        "\n",
        "## Function List\n",
        "\n",
        "[ST_Contains(geometry A, geometry\n",
        "B)](http://postgis.net/docs/ST_Contains.html): Returns true if and only\n",
        "if no points of B lie in the exterior of A, and at least one point of\n",
        "the interior of B lies in the interior of A.\n",
        "\n",
        "[ST_Crosses(geometry A, geometry\n",
        "B)](http://postgis.net/docs/ST_Crosses.html): Returns TRUE if the\n",
        "supplied geometries have some, but not all, interior points in common.\n",
        "\n",
        "[ST_Disjoint(geometry A , geometry\n",
        "B)](http://postgis.net/docs/ST_Disjoint.html): Returns TRUE if the\n",
        "Geometries do not \\\"spatially intersect\\\" - if they do not share any\n",
        "space together.\n",
        "\n",
        "[ST_Distance(geometry A, geometry\n",
        "B)](http://postgis.net/docs/ST_Distance.html): Returns the 2-dimensional\n",
        "cartesian minimum distance (based on spatial ref) between two geometries\n",
        "in projected units.\n",
        "\n",
        "[ST_DWithin(geometry A, geometry B,\n",
        "radius)](http://postgis.net/docs/ST_DWithin.html): Returns true if the\n",
        "geometries are within the specified distance (radius) of one another.\n",
        "\n",
        "[ST_Equals(geometry A, geometry\n",
        "B)](http://postgis.net/docs/ST_Equals.html): Returns true if the given\n",
        "geometries represent the same geometry. Directionality is ignored.\n",
        "\n",
        "[ST_Intersects(geometry A, geometry\n",
        "B)](http://postgis.net/docs/ST_Intersects.html): Returns TRUE if the\n",
        "Geometries/Geography \\\"spatially intersect\\\" - (share any portion of\n",
        "space) and FALSE if they don\\'t (they are Disjoint).\n",
        "\n",
        "[ST_Overlaps(geometry A, geometry\n",
        "B)](http://postgis.net/docs/ST_Overlaps.html): Returns TRUE if the\n",
        "Geometries share space, are of the same dimension, but are not\n",
        "completely contained by each other.\n",
        "\n",
        "[ST_Touches(geometry A, geometry\n",
        "B)](http://postgis.net/docs/ST_Touches.html): Returns TRUE if the\n",
        "geometries have at least one point in common, but their interiors do not\n",
        "intersect.\n",
        "\n",
        "[ST_Within(geometry A , geometry\n",
        "B)](http://postgis.net/docs/ST_Within.html): Returns true if the\n",
        "geometry A is completely inside geometry B\n"
      ],
      "id": "NJMXcGvLVZ1S"
    }
  ],
  "metadata": {
    "hide_input": false,
    "kernelspec": {
      "display_name": "Python 3",
      "language": "python",
      "name": "python3"
    },
    "language_info": {
      "codemirror_mode": {
        "name": "ipython",
        "version": 3
      },
      "file_extension": ".py",
      "mimetype": "text/x-python",
      "name": "python",
      "nbconvert_exporter": "python",
      "pygments_lexer": "ipython3",
      "version": "3.11.5"
    },
    "toc": {
      "base_numbering": 1,
      "nav_menu": {},
      "number_sections": true,
      "sideBar": true,
      "skip_h1_title": false,
      "title_cell": "Table of Contents",
      "title_sidebar": "Contents",
      "toc_cell": false,
      "toc_position": {},
      "toc_section_display": true,
      "toc_window_display": true
    },
    "varInspector": {
      "cols": {
        "lenName": 16,
        "lenType": 16,
        "lenVar": 40
      },
      "kernels_config": {
        "python": {
          "delete_cmd_postfix": "",
          "delete_cmd_prefix": "del ",
          "library": "var_list.py",
          "varRefreshCmd": "print(var_dic_list())"
        },
        "r": {
          "delete_cmd_postfix": ") ",
          "delete_cmd_prefix": "rm(",
          "library": "var_list.r",
          "varRefreshCmd": "cat(var_dic_list()) "
        }
      },
      "types_to_exclude": [
        "module",
        "function",
        "builtin_function_or_method",
        "instance",
        "_Feature"
      ],
      "window_display": false
    },
    "colab": {
      "provenance": []
    }
  },
  "nbformat": 4,
  "nbformat_minor": 5
}