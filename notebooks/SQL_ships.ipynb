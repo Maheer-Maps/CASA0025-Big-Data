{
 "cells": [
  {
   "cell_type": "markdown",
   "metadata": {},
   "source": [
    "## Installation\n",
    "\n",
    "Uncomment the following cell to install the required packages."
   ]
  },
  {
   "cell_type": "code",
   "execution_count": 1,
   "metadata": {},
   "outputs": [],
   "source": [
    "# %pip install duckdb duckdb-engine jupysql"
   ]
  },
  {
   "cell_type": "markdown",
   "metadata": {},
   "source": [
    "## Library Import and Configuration"
   ]
  },
  {
   "cell_type": "code",
   "execution_count": 2,
   "metadata": {},
   "outputs": [],
   "source": [
    "import duckdb\n",
    "import pandas as pd\n",
    "\n",
    "# Import jupysql Jupyter extension to create SQL cells\n",
    "%load_ext sql"
   ]
  },
  {
   "cell_type": "markdown",
   "metadata": {},
   "source": [
    "Set configurations on jupysql to directly output data to Pandas and to simplify the output that is printed to the notebook."
   ]
  },
  {
   "cell_type": "code",
   "execution_count": 3,
   "metadata": {},
   "outputs": [],
   "source": [
    "%config SqlMagic.autopandas = True\n",
    "%config SqlMagic.feedback = False\n",
    "%config SqlMagic.displaycon = False"
   ]
  },
  {
   "cell_type": "markdown",
   "metadata": {},
   "source": [
    "## Connecting to DuckDB\n",
    "\n",
    "Connect jupysql to DuckDB using a SQLAlchemy-style connection string. You may either connect to an in memory DuckDB, or a file backed db."
   ]
  },
  {
   "cell_type": "code",
   "execution_count": 4,
   "metadata": {},
   "outputs": [],
   "source": [
    "%sql duckdb:///:memory:\n",
    "# %sql duckdb:///path/to/file.db"
   ]
  },
  {
   "cell_type": "markdown",
   "metadata": {},
   "source": [
    " If your SQL query is one line only, you may use the `%sql` magic command. For multi-line SQL query, you may use the `%%sql` magic command. "
   ]
  },
  {
   "cell_type": "markdown",
   "metadata": {},
   "source": [
    "## Install extensions"
   ]
  },
  {
   "cell_type": "markdown",
   "metadata": {},
   "source": [
    "\n",
    "Check available DuckDB extensions."
   ]
  },
  {
   "cell_type": "code",
   "execution_count": 5,
   "metadata": {},
   "outputs": [
    {
     "data": {
      "text/html": [
       "<div>\n",
       "<style scoped>\n",
       "    .dataframe tbody tr th:only-of-type {\n",
       "        vertical-align: middle;\n",
       "    }\n",
       "\n",
       "    .dataframe tbody tr th {\n",
       "        vertical-align: top;\n",
       "    }\n",
       "\n",
       "    .dataframe thead th {\n",
       "        text-align: right;\n",
       "    }\n",
       "</style>\n",
       "<table border=\"1\" class=\"dataframe\">\n",
       "  <thead>\n",
       "    <tr style=\"text-align: right;\">\n",
       "      <th></th>\n",
       "      <th>extension_name</th>\n",
       "      <th>loaded</th>\n",
       "      <th>installed</th>\n",
       "      <th>install_path</th>\n",
       "      <th>description</th>\n",
       "      <th>aliases</th>\n",
       "    </tr>\n",
       "  </thead>\n",
       "  <tbody>\n",
       "    <tr>\n",
       "      <th>0</th>\n",
       "      <td>arrow</td>\n",
       "      <td>False</td>\n",
       "      <td>False</td>\n",
       "      <td></td>\n",
       "      <td>A zero-copy data integration between Apache Ar...</td>\n",
       "      <td>[]</td>\n",
       "    </tr>\n",
       "    <tr>\n",
       "      <th>1</th>\n",
       "      <td>autocomplete</td>\n",
       "      <td>False</td>\n",
       "      <td>False</td>\n",
       "      <td></td>\n",
       "      <td>Adds support for autocomplete in the shell</td>\n",
       "      <td>[]</td>\n",
       "    </tr>\n",
       "    <tr>\n",
       "      <th>2</th>\n",
       "      <td>aws</td>\n",
       "      <td>False</td>\n",
       "      <td>False</td>\n",
       "      <td></td>\n",
       "      <td>Provides features that depend on the AWS SDK</td>\n",
       "      <td>[]</td>\n",
       "    </tr>\n",
       "    <tr>\n",
       "      <th>3</th>\n",
       "      <td>azure</td>\n",
       "      <td>False</td>\n",
       "      <td>False</td>\n",
       "      <td></td>\n",
       "      <td>Adds a filesystem abstraction for Azure blob s...</td>\n",
       "      <td>[]</td>\n",
       "    </tr>\n",
       "    <tr>\n",
       "      <th>4</th>\n",
       "      <td>excel</td>\n",
       "      <td>False</td>\n",
       "      <td>False</td>\n",
       "      <td></td>\n",
       "      <td>Adds support for Excel-like format strings</td>\n",
       "      <td>[]</td>\n",
       "    </tr>\n",
       "    <tr>\n",
       "      <th>5</th>\n",
       "      <td>fts</td>\n",
       "      <td>False</td>\n",
       "      <td>True</td>\n",
       "      <td>(BUILT-IN)</td>\n",
       "      <td>Adds support for Full-Text Search Indexes</td>\n",
       "      <td>[]</td>\n",
       "    </tr>\n",
       "    <tr>\n",
       "      <th>6</th>\n",
       "      <td>httpfs</td>\n",
       "      <td>False</td>\n",
       "      <td>True</td>\n",
       "      <td>/Users/ollieballinger/.duckdb/extensions/v0.9....</td>\n",
       "      <td>Adds support for reading and writing files ove...</td>\n",
       "      <td>[http, https, s3]</td>\n",
       "    </tr>\n",
       "    <tr>\n",
       "      <th>7</th>\n",
       "      <td>iceberg</td>\n",
       "      <td>False</td>\n",
       "      <td>False</td>\n",
       "      <td></td>\n",
       "      <td>Adds support for Apache Iceberg</td>\n",
       "      <td>[]</td>\n",
       "    </tr>\n",
       "    <tr>\n",
       "      <th>8</th>\n",
       "      <td>icu</td>\n",
       "      <td>True</td>\n",
       "      <td>True</td>\n",
       "      <td>(BUILT-IN)</td>\n",
       "      <td>Adds support for time zones and collations usi...</td>\n",
       "      <td>[]</td>\n",
       "    </tr>\n",
       "    <tr>\n",
       "      <th>9</th>\n",
       "      <td>inet</td>\n",
       "      <td>False</td>\n",
       "      <td>False</td>\n",
       "      <td></td>\n",
       "      <td>Adds support for IP-related data types and fun...</td>\n",
       "      <td>[]</td>\n",
       "    </tr>\n",
       "    <tr>\n",
       "      <th>10</th>\n",
       "      <td>jemalloc</td>\n",
       "      <td>False</td>\n",
       "      <td>False</td>\n",
       "      <td></td>\n",
       "      <td>Overwrites system allocator with JEMalloc</td>\n",
       "      <td>[]</td>\n",
       "    </tr>\n",
       "    <tr>\n",
       "      <th>11</th>\n",
       "      <td>json</td>\n",
       "      <td>True</td>\n",
       "      <td>True</td>\n",
       "      <td>(BUILT-IN)</td>\n",
       "      <td>Adds support for JSON operations</td>\n",
       "      <td>[]</td>\n",
       "    </tr>\n",
       "    <tr>\n",
       "      <th>12</th>\n",
       "      <td>motherduck</td>\n",
       "      <td>False</td>\n",
       "      <td>False</td>\n",
       "      <td></td>\n",
       "      <td>Enables motherduck integration with the system</td>\n",
       "      <td>[md]</td>\n",
       "    </tr>\n",
       "    <tr>\n",
       "      <th>13</th>\n",
       "      <td>mysql_scanner</td>\n",
       "      <td>False</td>\n",
       "      <td>False</td>\n",
       "      <td></td>\n",
       "      <td>Adds support for connecting to a MySQL database</td>\n",
       "      <td>[mysql]</td>\n",
       "    </tr>\n",
       "    <tr>\n",
       "      <th>14</th>\n",
       "      <td>parquet</td>\n",
       "      <td>True</td>\n",
       "      <td>True</td>\n",
       "      <td>(BUILT-IN)</td>\n",
       "      <td>Adds support for reading and writing parquet f...</td>\n",
       "      <td>[]</td>\n",
       "    </tr>\n",
       "    <tr>\n",
       "      <th>15</th>\n",
       "      <td>postgres_scanner</td>\n",
       "      <td>False</td>\n",
       "      <td>False</td>\n",
       "      <td></td>\n",
       "      <td>Adds support for connecting to a Postgres data...</td>\n",
       "      <td>[postgres]</td>\n",
       "    </tr>\n",
       "    <tr>\n",
       "      <th>16</th>\n",
       "      <td>spatial</td>\n",
       "      <td>False</td>\n",
       "      <td>True</td>\n",
       "      <td>/Users/ollieballinger/.duckdb/extensions/v0.9....</td>\n",
       "      <td>Geospatial extension that adds support for wor...</td>\n",
       "      <td>[]</td>\n",
       "    </tr>\n",
       "    <tr>\n",
       "      <th>17</th>\n",
       "      <td>sqlite_scanner</td>\n",
       "      <td>False</td>\n",
       "      <td>False</td>\n",
       "      <td></td>\n",
       "      <td>Adds support for reading and writing SQLite da...</td>\n",
       "      <td>[sqlite, sqlite3]</td>\n",
       "    </tr>\n",
       "    <tr>\n",
       "      <th>18</th>\n",
       "      <td>substrait</td>\n",
       "      <td>False</td>\n",
       "      <td>False</td>\n",
       "      <td></td>\n",
       "      <td>Adds support for the Substrait integration</td>\n",
       "      <td>[]</td>\n",
       "    </tr>\n",
       "    <tr>\n",
       "      <th>19</th>\n",
       "      <td>tpcds</td>\n",
       "      <td>True</td>\n",
       "      <td>True</td>\n",
       "      <td>(BUILT-IN)</td>\n",
       "      <td>Adds TPC-DS data generation and query support</td>\n",
       "      <td>[]</td>\n",
       "    </tr>\n",
       "    <tr>\n",
       "      <th>20</th>\n",
       "      <td>tpch</td>\n",
       "      <td>True</td>\n",
       "      <td>True</td>\n",
       "      <td>(BUILT-IN)</td>\n",
       "      <td>Adds TPC-H data generation and query support</td>\n",
       "      <td>[]</td>\n",
       "    </tr>\n",
       "    <tr>\n",
       "      <th>21</th>\n",
       "      <td>visualizer</td>\n",
       "      <td>False</td>\n",
       "      <td>False</td>\n",
       "      <td></td>\n",
       "      <td>Creates an HTML-based visualization of the que...</td>\n",
       "      <td>[]</td>\n",
       "    </tr>\n",
       "  </tbody>\n",
       "</table>\n",
       "</div>"
      ],
      "text/plain": [
       "      extension_name  loaded  installed  \\\n",
       "0              arrow   False      False   \n",
       "1       autocomplete   False      False   \n",
       "2                aws   False      False   \n",
       "3              azure   False      False   \n",
       "4              excel   False      False   \n",
       "5                fts   False       True   \n",
       "6             httpfs   False       True   \n",
       "7            iceberg   False      False   \n",
       "8                icu    True       True   \n",
       "9               inet   False      False   \n",
       "10          jemalloc   False      False   \n",
       "11              json    True       True   \n",
       "12        motherduck   False      False   \n",
       "13     mysql_scanner   False      False   \n",
       "14           parquet    True       True   \n",
       "15  postgres_scanner   False      False   \n",
       "16           spatial   False       True   \n",
       "17    sqlite_scanner   False      False   \n",
       "18         substrait   False      False   \n",
       "19             tpcds    True       True   \n",
       "20              tpch    True       True   \n",
       "21        visualizer   False      False   \n",
       "\n",
       "                                         install_path  \\\n",
       "0                                                       \n",
       "1                                                       \n",
       "2                                                       \n",
       "3                                                       \n",
       "4                                                       \n",
       "5                                          (BUILT-IN)   \n",
       "6   /Users/ollieballinger/.duckdb/extensions/v0.9....   \n",
       "7                                                       \n",
       "8                                          (BUILT-IN)   \n",
       "9                                                       \n",
       "10                                                      \n",
       "11                                         (BUILT-IN)   \n",
       "12                                                      \n",
       "13                                                      \n",
       "14                                         (BUILT-IN)   \n",
       "15                                                      \n",
       "16  /Users/ollieballinger/.duckdb/extensions/v0.9....   \n",
       "17                                                      \n",
       "18                                                      \n",
       "19                                         (BUILT-IN)   \n",
       "20                                         (BUILT-IN)   \n",
       "21                                                      \n",
       "\n",
       "                                          description            aliases  \n",
       "0   A zero-copy data integration between Apache Ar...                 []  \n",
       "1          Adds support for autocomplete in the shell                 []  \n",
       "2        Provides features that depend on the AWS SDK                 []  \n",
       "3   Adds a filesystem abstraction for Azure blob s...                 []  \n",
       "4          Adds support for Excel-like format strings                 []  \n",
       "5           Adds support for Full-Text Search Indexes                 []  \n",
       "6   Adds support for reading and writing files ove...  [http, https, s3]  \n",
       "7                     Adds support for Apache Iceberg                 []  \n",
       "8   Adds support for time zones and collations usi...                 []  \n",
       "9   Adds support for IP-related data types and fun...                 []  \n",
       "10          Overwrites system allocator with JEMalloc                 []  \n",
       "11                   Adds support for JSON operations                 []  \n",
       "12     Enables motherduck integration with the system               [md]  \n",
       "13    Adds support for connecting to a MySQL database            [mysql]  \n",
       "14  Adds support for reading and writing parquet f...                 []  \n",
       "15  Adds support for connecting to a Postgres data...         [postgres]  \n",
       "16  Geospatial extension that adds support for wor...                 []  \n",
       "17  Adds support for reading and writing SQLite da...  [sqlite, sqlite3]  \n",
       "18         Adds support for the Substrait integration                 []  \n",
       "19      Adds TPC-DS data generation and query support                 []  \n",
       "20       Adds TPC-H data generation and query support                 []  \n",
       "21  Creates an HTML-based visualization of the que...                 []  "
      ]
     },
     "execution_count": 5,
     "metadata": {},
     "output_type": "execute_result"
    }
   ],
   "source": [
    "%%sql\n",
    "\n",
    "SELECT * FROM duckdb_extensions();"
   ]
  },
  {
   "cell_type": "markdown",
   "metadata": {},
   "source": [
    "DuckDB's [httpfs extension](https://duckdb.org/docs/extensions/httpfs) allows parquet and csv files to be queried remotely over http. This is useful for querying large datasets without having to download them locally. Let's install the extension and load the extension. "
   ]
  },
  {
   "cell_type": "code",
   "execution_count": 6,
   "metadata": {},
   "outputs": [
    {
     "data": {
      "text/html": [
       "<div>\n",
       "<style scoped>\n",
       "    .dataframe tbody tr th:only-of-type {\n",
       "        vertical-align: middle;\n",
       "    }\n",
       "\n",
       "    .dataframe tbody tr th {\n",
       "        vertical-align: top;\n",
       "    }\n",
       "\n",
       "    .dataframe thead th {\n",
       "        text-align: right;\n",
       "    }\n",
       "</style>\n",
       "<table border=\"1\" class=\"dataframe\">\n",
       "  <thead>\n",
       "    <tr style=\"text-align: right;\">\n",
       "      <th></th>\n",
       "      <th>Success</th>\n",
       "    </tr>\n",
       "  </thead>\n",
       "  <tbody>\n",
       "  </tbody>\n",
       "</table>\n",
       "</div>"
      ],
      "text/plain": [
       "Empty DataFrame\n",
       "Columns: [Success]\n",
       "Index: []"
      ]
     },
     "execution_count": 6,
     "metadata": {},
     "output_type": "execute_result"
    }
   ],
   "source": [
    "%%sql\n",
    "\n",
    "INSTALL httpfs;\n",
    "LOAD httpfs;\n",
    "INSTALL spatial;\n",
    "LOAD spatial;"
   ]
  },
  {
   "cell_type": "markdown",
   "metadata": {},
   "source": [
    "## Read CSV\n",
    "\n",
    "Use the `httpfs` extension to read the `cities.csv` file from the web. "
   ]
  },
  {
   "cell_type": "markdown",
   "metadata": {},
   "source": [
    "## Create Table\n",
    "\n",
    "Create a table named `cities` from the `cities.csv` file."
   ]
  },
  {
   "cell_type": "code",
   "execution_count": 7,
   "metadata": {},
   "outputs": [
    {
     "data": {
      "text/html": [
       "<div>\n",
       "<style scoped>\n",
       "    .dataframe tbody tr th:only-of-type {\n",
       "        vertical-align: middle;\n",
       "    }\n",
       "\n",
       "    .dataframe tbody tr th {\n",
       "        vertical-align: top;\n",
       "    }\n",
       "\n",
       "    .dataframe thead th {\n",
       "        text-align: right;\n",
       "    }\n",
       "</style>\n",
       "<table border=\"1\" class=\"dataframe\">\n",
       "  <thead>\n",
       "    <tr style=\"text-align: right;\">\n",
       "      <th></th>\n",
       "      <th>Success</th>\n",
       "    </tr>\n",
       "  </thead>\n",
       "  <tbody>\n",
       "  </tbody>\n",
       "</table>\n",
       "</div>"
      ],
      "text/plain": [
       "Empty DataFrame\n",
       "Columns: [Success]\n",
       "Index: []"
      ]
     },
     "execution_count": 7,
     "metadata": {},
     "output_type": "execute_result"
    }
   ],
   "source": [
    "%%sql \n",
    "\n",
    "CREATE TABLE ais AS SELECT * FROM 'casa0025_ships.csv';"
   ]
  },
  {
   "cell_type": "markdown",
   "metadata": {},
   "source": [
    "Create a table named `countries` from the `countries.csv` file."
   ]
  },
  {
   "cell_type": "code",
   "execution_count": 8,
   "id": "7ebdb0cd",
   "metadata": {},
   "outputs": [
    {
     "data": {
      "text/html": [
       "<div>\n",
       "<style scoped>\n",
       "    .dataframe tbody tr th:only-of-type {\n",
       "        vertical-align: middle;\n",
       "    }\n",
       "\n",
       "    .dataframe tbody tr th {\n",
       "        vertical-align: top;\n",
       "    }\n",
       "\n",
       "    .dataframe thead th {\n",
       "        text-align: right;\n",
       "    }\n",
       "</style>\n",
       "<table border=\"1\" class=\"dataframe\">\n",
       "  <thead>\n",
       "    <tr style=\"text-align: right;\">\n",
       "      <th></th>\n",
       "      <th>vesselid</th>\n",
       "      <th>vessel_name</th>\n",
       "      <th>vsl_descr</th>\n",
       "      <th>dwt</th>\n",
       "      <th>v_length</th>\n",
       "      <th>vesselid_1</th>\n",
       "      <th>draught</th>\n",
       "      <th>sog</th>\n",
       "      <th>date</th>\n",
       "      <th>geometry</th>\n",
       "      <th>lat</th>\n",
       "      <th>lon</th>\n",
       "      <th>geom</th>\n",
       "    </tr>\n",
       "  </thead>\n",
       "  <tbody>\n",
       "    <tr>\n",
       "      <th>0</th>\n",
       "      <td>350053</td>\n",
       "      <td>30 Let Pobedy</td>\n",
       "      <td>general cargo</td>\n",
       "      <td>5150.0</td>\n",
       "      <td>NaN</td>\n",
       "      <td>350053</td>\n",
       "      <td>3.5</td>\n",
       "      <td>5.2</td>\n",
       "      <td>2022-07-25 02:53:29</td>\n",
       "      <td>POINT (4064644.931701794 5645447.347887114)</td>\n",
       "      <td>45.151777</td>\n",
       "      <td>36.513327</td>\n",
       "      <td>POINT (36.5133266666667 45.1517766666667)</td>\n",
       "    </tr>\n",
       "    <tr>\n",
       "      <th>1</th>\n",
       "      <td>350053</td>\n",
       "      <td>30 Let Pobedy</td>\n",
       "      <td>general cargo</td>\n",
       "      <td>5150.0</td>\n",
       "      <td>NaN</td>\n",
       "      <td>350053</td>\n",
       "      <td>3.5</td>\n",
       "      <td>0.7</td>\n",
       "      <td>2022-07-25 03:09:37</td>\n",
       "      <td>POINT (4065474.63297317 5644612.369513403)</td>\n",
       "      <td>45.146487</td>\n",
       "      <td>36.520780</td>\n",
       "      <td>POINT (36.52078 45.1464866666667)</td>\n",
       "    </tr>\n",
       "    <tr>\n",
       "      <th>2</th>\n",
       "      <td>350053</td>\n",
       "      <td>30 Let Pobedy</td>\n",
       "      <td>general cargo</td>\n",
       "      <td>5150.0</td>\n",
       "      <td>NaN</td>\n",
       "      <td>350053</td>\n",
       "      <td>3.5</td>\n",
       "      <td>0.7</td>\n",
       "      <td>2022-07-25 03:13:58</td>\n",
       "      <td>POINT (4065606.54656976 5644570.017602938)</td>\n",
       "      <td>45.146218</td>\n",
       "      <td>36.521965</td>\n",
       "      <td>POINT (36.521965 45.1462183333333)</td>\n",
       "    </tr>\n",
       "    <tr>\n",
       "      <th>3</th>\n",
       "      <td>350053</td>\n",
       "      <td>30 Let Pobedy</td>\n",
       "      <td>general cargo</td>\n",
       "      <td>5150.0</td>\n",
       "      <td>NaN</td>\n",
       "      <td>350053</td>\n",
       "      <td>3.5</td>\n",
       "      <td>0.1</td>\n",
       "      <td>2022-07-25 04:16:06</td>\n",
       "      <td>POINT (4065612.669141753 5644386.933376937)</td>\n",
       "      <td>45.145058</td>\n",
       "      <td>36.522020</td>\n",
       "      <td>POINT (36.52202 45.1450583333333)</td>\n",
       "    </tr>\n",
       "    <tr>\n",
       "      <th>4</th>\n",
       "      <td>350053</td>\n",
       "      <td>30 Let Pobedy</td>\n",
       "      <td>general cargo</td>\n",
       "      <td>5150.0</td>\n",
       "      <td>NaN</td>\n",
       "      <td>350053</td>\n",
       "      <td>3.5</td>\n",
       "      <td>0.0</td>\n",
       "      <td>2022-07-25 05:20:17</td>\n",
       "      <td>POINT (4065593.55929583 5644367.204695632)</td>\n",
       "      <td>45.144933</td>\n",
       "      <td>36.521848</td>\n",
       "      <td>POINT (36.5218483333333 45.1449333333333)</td>\n",
       "    </tr>\n",
       "    <tr>\n",
       "      <th>5</th>\n",
       "      <td>350053</td>\n",
       "      <td>30 Let Pobedy</td>\n",
       "      <td>general cargo</td>\n",
       "      <td>5150.0</td>\n",
       "      <td>NaN</td>\n",
       "      <td>350053</td>\n",
       "      <td>3.5</td>\n",
       "      <td>0.0</td>\n",
       "      <td>2022-07-25 06:23:57</td>\n",
       "      <td>POINT (4065587.622256325 5644385.618130174)</td>\n",
       "      <td>45.145050</td>\n",
       "      <td>36.521795</td>\n",
       "      <td>POINT (36.521795 45.14505)</td>\n",
       "    </tr>\n",
       "    <tr>\n",
       "      <th>6</th>\n",
       "      <td>350053</td>\n",
       "      <td>30 Let Pobedy</td>\n",
       "      <td>general cargo</td>\n",
       "      <td>5150.0</td>\n",
       "      <td>NaN</td>\n",
       "      <td>350053</td>\n",
       "      <td>3.5</td>\n",
       "      <td>0.0</td>\n",
       "      <td>2022-07-25 07:25:25</td>\n",
       "      <td>POINT (4065384.093120661 5644627.626772217)</td>\n",
       "      <td>45.146583</td>\n",
       "      <td>36.519967</td>\n",
       "      <td>POINT (36.5199666666667 45.1465833333333)</td>\n",
       "    </tr>\n",
       "    <tr>\n",
       "      <th>7</th>\n",
       "      <td>350053</td>\n",
       "      <td>30 Let Pobedy</td>\n",
       "      <td>general cargo</td>\n",
       "      <td>5150.0</td>\n",
       "      <td>NaN</td>\n",
       "      <td>350053</td>\n",
       "      <td>3.5</td>\n",
       "      <td>0.2</td>\n",
       "      <td>2022-07-25 10:36:41</td>\n",
       "      <td>POINT (4065487.434714611 5644663.92862999)</td>\n",
       "      <td>45.146813</td>\n",
       "      <td>36.520895</td>\n",
       "      <td>POINT (36.520895 45.1468133333333)</td>\n",
       "    </tr>\n",
       "    <tr>\n",
       "      <th>8</th>\n",
       "      <td>350053</td>\n",
       "      <td>30 Let Pobedy</td>\n",
       "      <td>general cargo</td>\n",
       "      <td>5150.0</td>\n",
       "      <td>NaN</td>\n",
       "      <td>350053</td>\n",
       "      <td>3.5</td>\n",
       "      <td>0.0</td>\n",
       "      <td>2022-07-25 12:15:05</td>\n",
       "      <td>POINT (4065632.150052642 5644532.400855862)</td>\n",
       "      <td>45.145980</td>\n",
       "      <td>36.522195</td>\n",
       "      <td>POINT (36.522195 45.14598)</td>\n",
       "    </tr>\n",
       "    <tr>\n",
       "      <th>9</th>\n",
       "      <td>350053</td>\n",
       "      <td>30 Let Pobedy</td>\n",
       "      <td>general cargo</td>\n",
       "      <td>5150.0</td>\n",
       "      <td>NaN</td>\n",
       "      <td>350053</td>\n",
       "      <td>3.5</td>\n",
       "      <td>0.1</td>\n",
       "      <td>2022-07-25 13:41:53</td>\n",
       "      <td>POINT (4065623.986623321 5644419.025457622)</td>\n",
       "      <td>45.145262</td>\n",
       "      <td>36.522122</td>\n",
       "      <td>POINT (36.5221216666667 45.1452616666667)</td>\n",
       "    </tr>\n",
       "  </tbody>\n",
       "</table>\n",
       "</div>"
      ],
      "text/plain": [
       "   vesselid    vessel_name      vsl_descr     dwt  v_length  vesselid_1  \\\n",
       "0    350053  30 Let Pobedy  general cargo  5150.0       NaN      350053   \n",
       "1    350053  30 Let Pobedy  general cargo  5150.0       NaN      350053   \n",
       "2    350053  30 Let Pobedy  general cargo  5150.0       NaN      350053   \n",
       "3    350053  30 Let Pobedy  general cargo  5150.0       NaN      350053   \n",
       "4    350053  30 Let Pobedy  general cargo  5150.0       NaN      350053   \n",
       "5    350053  30 Let Pobedy  general cargo  5150.0       NaN      350053   \n",
       "6    350053  30 Let Pobedy  general cargo  5150.0       NaN      350053   \n",
       "7    350053  30 Let Pobedy  general cargo  5150.0       NaN      350053   \n",
       "8    350053  30 Let Pobedy  general cargo  5150.0       NaN      350053   \n",
       "9    350053  30 Let Pobedy  general cargo  5150.0       NaN      350053   \n",
       "\n",
       "   draught  sog                date  \\\n",
       "0      3.5  5.2 2022-07-25 02:53:29   \n",
       "1      3.5  0.7 2022-07-25 03:09:37   \n",
       "2      3.5  0.7 2022-07-25 03:13:58   \n",
       "3      3.5  0.1 2022-07-25 04:16:06   \n",
       "4      3.5  0.0 2022-07-25 05:20:17   \n",
       "5      3.5  0.0 2022-07-25 06:23:57   \n",
       "6      3.5  0.0 2022-07-25 07:25:25   \n",
       "7      3.5  0.2 2022-07-25 10:36:41   \n",
       "8      3.5  0.0 2022-07-25 12:15:05   \n",
       "9      3.5  0.1 2022-07-25 13:41:53   \n",
       "\n",
       "                                      geometry        lat        lon  \\\n",
       "0  POINT (4064644.931701794 5645447.347887114)  45.151777  36.513327   \n",
       "1   POINT (4065474.63297317 5644612.369513403)  45.146487  36.520780   \n",
       "2   POINT (4065606.54656976 5644570.017602938)  45.146218  36.521965   \n",
       "3  POINT (4065612.669141753 5644386.933376937)  45.145058  36.522020   \n",
       "4   POINT (4065593.55929583 5644367.204695632)  45.144933  36.521848   \n",
       "5  POINT (4065587.622256325 5644385.618130174)  45.145050  36.521795   \n",
       "6  POINT (4065384.093120661 5644627.626772217)  45.146583  36.519967   \n",
       "7   POINT (4065487.434714611 5644663.92862999)  45.146813  36.520895   \n",
       "8  POINT (4065632.150052642 5644532.400855862)  45.145980  36.522195   \n",
       "9  POINT (4065623.986623321 5644419.025457622)  45.145262  36.522122   \n",
       "\n",
       "                                        geom  \n",
       "0  POINT (36.5133266666667 45.1517766666667)  \n",
       "1          POINT (36.52078 45.1464866666667)  \n",
       "2         POINT (36.521965 45.1462183333333)  \n",
       "3          POINT (36.52202 45.1450583333333)  \n",
       "4  POINT (36.5218483333333 45.1449333333333)  \n",
       "5                 POINT (36.521795 45.14505)  \n",
       "6  POINT (36.5199666666667 45.1465833333333)  \n",
       "7         POINT (36.520895 45.1468133333333)  \n",
       "8                 POINT (36.522195 45.14598)  \n",
       "9  POINT (36.5221216666667 45.1452616666667)  "
      ]
     },
     "execution_count": 8,
     "metadata": {},
     "output_type": "execute_result"
    }
   ],
   "source": [
    "%%sql \n",
    "\n",
    "SELECT * FROM ais LIMIT 10;\n"
   ]
  },
  {
   "cell_type": "code",
   "execution_count": 36,
   "id": "c27dbed5",
   "metadata": {},
   "outputs": [
    {
     "data": {
      "text/html": [
       "<div>\n",
       "<style scoped>\n",
       "    .dataframe tbody tr th:only-of-type {\n",
       "        vertical-align: middle;\n",
       "    }\n",
       "\n",
       "    .dataframe tbody tr th {\n",
       "        vertical-align: top;\n",
       "    }\n",
       "\n",
       "    .dataframe thead th {\n",
       "        text-align: right;\n",
       "    }\n",
       "</style>\n",
       "<table border=\"1\" class=\"dataframe\">\n",
       "  <thead>\n",
       "    <tr style=\"text-align: right;\">\n",
       "      <th></th>\n",
       "      <th>Success</th>\n",
       "    </tr>\n",
       "  </thead>\n",
       "  <tbody>\n",
       "  </tbody>\n",
       "</table>\n",
       "</div>"
      ],
      "text/plain": [
       "Empty DataFrame\n",
       "Columns: [Success]\n",
       "Index: []"
      ]
     },
     "execution_count": 36,
     "metadata": {},
     "output_type": "execute_result"
    }
   ],
   "source": [
    "%%sql \n",
    "\n",
    "alter table ais add column geo geometry;\n",
    "update ais set geo = ST_GeomFromText(geometry);\n"
   ]
  },
  {
   "cell_type": "code",
   "execution_count": 37,
   "id": "fa66345d",
   "metadata": {},
   "outputs": [
    {
     "data": {
      "text/html": [
       "<div>\n",
       "<style scoped>\n",
       "    .dataframe tbody tr th:only-of-type {\n",
       "        vertical-align: middle;\n",
       "    }\n",
       "\n",
       "    .dataframe tbody tr th {\n",
       "        vertical-align: top;\n",
       "    }\n",
       "\n",
       "    .dataframe thead th {\n",
       "        text-align: right;\n",
       "    }\n",
       "</style>\n",
       "<table border=\"1\" class=\"dataframe\">\n",
       "  <thead>\n",
       "    <tr style=\"text-align: right;\">\n",
       "      <th></th>\n",
       "      <th>vesselid</th>\n",
       "      <th>vessel_name</th>\n",
       "      <th>vsl_descr</th>\n",
       "      <th>dwt</th>\n",
       "      <th>v_length</th>\n",
       "      <th>vesselid_1</th>\n",
       "      <th>draught</th>\n",
       "      <th>sog</th>\n",
       "      <th>date</th>\n",
       "      <th>geometry</th>\n",
       "      <th>lat</th>\n",
       "      <th>lon</th>\n",
       "      <th>geom</th>\n",
       "      <th>geo</th>\n",
       "    </tr>\n",
       "  </thead>\n",
       "  <tbody>\n",
       "    <tr>\n",
       "      <th>0</th>\n",
       "      <td>350053</td>\n",
       "      <td>30 Let Pobedy</td>\n",
       "      <td>general cargo</td>\n",
       "      <td>5150.0</td>\n",
       "      <td>NaN</td>\n",
       "      <td>350053</td>\n",
       "      <td>3.5</td>\n",
       "      <td>5.2</td>\n",
       "      <td>2022-07-25 02:53:29</td>\n",
       "      <td>POINT (4064644.931701794 5645447.347887114)</td>\n",
       "      <td>45.151777</td>\n",
       "      <td>36.513327</td>\n",
       "      <td>POINT (36.5133266666667 45.1517766666667)</td>\n",
       "      <td>[0, 0, 24, 0, 0, 0, 0, 0, 0, 0, 0, 0, 1, 0, 0,...</td>\n",
       "    </tr>\n",
       "    <tr>\n",
       "      <th>1</th>\n",
       "      <td>350053</td>\n",
       "      <td>30 Let Pobedy</td>\n",
       "      <td>general cargo</td>\n",
       "      <td>5150.0</td>\n",
       "      <td>NaN</td>\n",
       "      <td>350053</td>\n",
       "      <td>3.5</td>\n",
       "      <td>0.7</td>\n",
       "      <td>2022-07-25 03:09:37</td>\n",
       "      <td>POINT (4065474.63297317 5644612.369513403)</td>\n",
       "      <td>45.146487</td>\n",
       "      <td>36.520780</td>\n",
       "      <td>POINT (36.52078 45.1464866666667)</td>\n",
       "      <td>[0, 0, 24, 0, 0, 0, 0, 0, 0, 0, 0, 0, 1, 0, 0,...</td>\n",
       "    </tr>\n",
       "    <tr>\n",
       "      <th>2</th>\n",
       "      <td>350053</td>\n",
       "      <td>30 Let Pobedy</td>\n",
       "      <td>general cargo</td>\n",
       "      <td>5150.0</td>\n",
       "      <td>NaN</td>\n",
       "      <td>350053</td>\n",
       "      <td>3.5</td>\n",
       "      <td>0.7</td>\n",
       "      <td>2022-07-25 03:13:58</td>\n",
       "      <td>POINT (4065606.54656976 5644570.017602938)</td>\n",
       "      <td>45.146218</td>\n",
       "      <td>36.521965</td>\n",
       "      <td>POINT (36.521965 45.1462183333333)</td>\n",
       "      <td>[0, 0, 24, 0, 0, 0, 0, 0, 0, 0, 0, 0, 1, 0, 0,...</td>\n",
       "    </tr>\n",
       "    <tr>\n",
       "      <th>3</th>\n",
       "      <td>350053</td>\n",
       "      <td>30 Let Pobedy</td>\n",
       "      <td>general cargo</td>\n",
       "      <td>5150.0</td>\n",
       "      <td>NaN</td>\n",
       "      <td>350053</td>\n",
       "      <td>3.5</td>\n",
       "      <td>0.1</td>\n",
       "      <td>2022-07-25 04:16:06</td>\n",
       "      <td>POINT (4065612.669141753 5644386.933376937)</td>\n",
       "      <td>45.145058</td>\n",
       "      <td>36.522020</td>\n",
       "      <td>POINT (36.52202 45.1450583333333)</td>\n",
       "      <td>[0, 0, 24, 0, 0, 0, 0, 0, 0, 0, 0, 0, 1, 0, 0,...</td>\n",
       "    </tr>\n",
       "    <tr>\n",
       "      <th>4</th>\n",
       "      <td>350053</td>\n",
       "      <td>30 Let Pobedy</td>\n",
       "      <td>general cargo</td>\n",
       "      <td>5150.0</td>\n",
       "      <td>NaN</td>\n",
       "      <td>350053</td>\n",
       "      <td>3.5</td>\n",
       "      <td>0.0</td>\n",
       "      <td>2022-07-25 05:20:17</td>\n",
       "      <td>POINT (4065593.55929583 5644367.204695632)</td>\n",
       "      <td>45.144933</td>\n",
       "      <td>36.521848</td>\n",
       "      <td>POINT (36.5218483333333 45.1449333333333)</td>\n",
       "      <td>[0, 0, 24, 0, 0, 0, 0, 0, 0, 0, 0, 0, 1, 0, 0,...</td>\n",
       "    </tr>\n",
       "    <tr>\n",
       "      <th>5</th>\n",
       "      <td>350053</td>\n",
       "      <td>30 Let Pobedy</td>\n",
       "      <td>general cargo</td>\n",
       "      <td>5150.0</td>\n",
       "      <td>NaN</td>\n",
       "      <td>350053</td>\n",
       "      <td>3.5</td>\n",
       "      <td>0.0</td>\n",
       "      <td>2022-07-25 06:23:57</td>\n",
       "      <td>POINT (4065587.622256325 5644385.618130174)</td>\n",
       "      <td>45.145050</td>\n",
       "      <td>36.521795</td>\n",
       "      <td>POINT (36.521795 45.14505)</td>\n",
       "      <td>[0, 0, 24, 0, 0, 0, 0, 0, 0, 0, 0, 0, 1, 0, 0,...</td>\n",
       "    </tr>\n",
       "    <tr>\n",
       "      <th>6</th>\n",
       "      <td>350053</td>\n",
       "      <td>30 Let Pobedy</td>\n",
       "      <td>general cargo</td>\n",
       "      <td>5150.0</td>\n",
       "      <td>NaN</td>\n",
       "      <td>350053</td>\n",
       "      <td>3.5</td>\n",
       "      <td>0.0</td>\n",
       "      <td>2022-07-25 07:25:25</td>\n",
       "      <td>POINT (4065384.093120661 5644627.626772217)</td>\n",
       "      <td>45.146583</td>\n",
       "      <td>36.519967</td>\n",
       "      <td>POINT (36.5199666666667 45.1465833333333)</td>\n",
       "      <td>[0, 0, 24, 0, 0, 0, 0, 0, 0, 0, 0, 0, 1, 0, 0,...</td>\n",
       "    </tr>\n",
       "    <tr>\n",
       "      <th>7</th>\n",
       "      <td>350053</td>\n",
       "      <td>30 Let Pobedy</td>\n",
       "      <td>general cargo</td>\n",
       "      <td>5150.0</td>\n",
       "      <td>NaN</td>\n",
       "      <td>350053</td>\n",
       "      <td>3.5</td>\n",
       "      <td>0.2</td>\n",
       "      <td>2022-07-25 10:36:41</td>\n",
       "      <td>POINT (4065487.434714611 5644663.92862999)</td>\n",
       "      <td>45.146813</td>\n",
       "      <td>36.520895</td>\n",
       "      <td>POINT (36.520895 45.1468133333333)</td>\n",
       "      <td>[0, 0, 24, 0, 0, 0, 0, 0, 0, 0, 0, 0, 1, 0, 0,...</td>\n",
       "    </tr>\n",
       "    <tr>\n",
       "      <th>8</th>\n",
       "      <td>350053</td>\n",
       "      <td>30 Let Pobedy</td>\n",
       "      <td>general cargo</td>\n",
       "      <td>5150.0</td>\n",
       "      <td>NaN</td>\n",
       "      <td>350053</td>\n",
       "      <td>3.5</td>\n",
       "      <td>0.0</td>\n",
       "      <td>2022-07-25 12:15:05</td>\n",
       "      <td>POINT (4065632.150052642 5644532.400855862)</td>\n",
       "      <td>45.145980</td>\n",
       "      <td>36.522195</td>\n",
       "      <td>POINT (36.522195 45.14598)</td>\n",
       "      <td>[0, 0, 24, 0, 0, 0, 0, 0, 0, 0, 0, 0, 1, 0, 0,...</td>\n",
       "    </tr>\n",
       "    <tr>\n",
       "      <th>9</th>\n",
       "      <td>350053</td>\n",
       "      <td>30 Let Pobedy</td>\n",
       "      <td>general cargo</td>\n",
       "      <td>5150.0</td>\n",
       "      <td>NaN</td>\n",
       "      <td>350053</td>\n",
       "      <td>3.5</td>\n",
       "      <td>0.1</td>\n",
       "      <td>2022-07-25 13:41:53</td>\n",
       "      <td>POINT (4065623.986623321 5644419.025457622)</td>\n",
       "      <td>45.145262</td>\n",
       "      <td>36.522122</td>\n",
       "      <td>POINT (36.5221216666667 45.1452616666667)</td>\n",
       "      <td>[0, 0, 24, 0, 0, 0, 0, 0, 0, 0, 0, 0, 1, 0, 0,...</td>\n",
       "    </tr>\n",
       "  </tbody>\n",
       "</table>\n",
       "</div>"
      ],
      "text/plain": [
       "   vesselid    vessel_name      vsl_descr     dwt  v_length  vesselid_1  \\\n",
       "0    350053  30 Let Pobedy  general cargo  5150.0       NaN      350053   \n",
       "1    350053  30 Let Pobedy  general cargo  5150.0       NaN      350053   \n",
       "2    350053  30 Let Pobedy  general cargo  5150.0       NaN      350053   \n",
       "3    350053  30 Let Pobedy  general cargo  5150.0       NaN      350053   \n",
       "4    350053  30 Let Pobedy  general cargo  5150.0       NaN      350053   \n",
       "5    350053  30 Let Pobedy  general cargo  5150.0       NaN      350053   \n",
       "6    350053  30 Let Pobedy  general cargo  5150.0       NaN      350053   \n",
       "7    350053  30 Let Pobedy  general cargo  5150.0       NaN      350053   \n",
       "8    350053  30 Let Pobedy  general cargo  5150.0       NaN      350053   \n",
       "9    350053  30 Let Pobedy  general cargo  5150.0       NaN      350053   \n",
       "\n",
       "   draught  sog                date  \\\n",
       "0      3.5  5.2 2022-07-25 02:53:29   \n",
       "1      3.5  0.7 2022-07-25 03:09:37   \n",
       "2      3.5  0.7 2022-07-25 03:13:58   \n",
       "3      3.5  0.1 2022-07-25 04:16:06   \n",
       "4      3.5  0.0 2022-07-25 05:20:17   \n",
       "5      3.5  0.0 2022-07-25 06:23:57   \n",
       "6      3.5  0.0 2022-07-25 07:25:25   \n",
       "7      3.5  0.2 2022-07-25 10:36:41   \n",
       "8      3.5  0.0 2022-07-25 12:15:05   \n",
       "9      3.5  0.1 2022-07-25 13:41:53   \n",
       "\n",
       "                                      geometry        lat        lon  \\\n",
       "0  POINT (4064644.931701794 5645447.347887114)  45.151777  36.513327   \n",
       "1   POINT (4065474.63297317 5644612.369513403)  45.146487  36.520780   \n",
       "2   POINT (4065606.54656976 5644570.017602938)  45.146218  36.521965   \n",
       "3  POINT (4065612.669141753 5644386.933376937)  45.145058  36.522020   \n",
       "4   POINT (4065593.55929583 5644367.204695632)  45.144933  36.521848   \n",
       "5  POINT (4065587.622256325 5644385.618130174)  45.145050  36.521795   \n",
       "6  POINT (4065384.093120661 5644627.626772217)  45.146583  36.519967   \n",
       "7   POINT (4065487.434714611 5644663.92862999)  45.146813  36.520895   \n",
       "8  POINT (4065632.150052642 5644532.400855862)  45.145980  36.522195   \n",
       "9  POINT (4065623.986623321 5644419.025457622)  45.145262  36.522122   \n",
       "\n",
       "                                        geom  \\\n",
       "0  POINT (36.5133266666667 45.1517766666667)   \n",
       "1          POINT (36.52078 45.1464866666667)   \n",
       "2         POINT (36.521965 45.1462183333333)   \n",
       "3          POINT (36.52202 45.1450583333333)   \n",
       "4  POINT (36.5218483333333 45.1449333333333)   \n",
       "5                 POINT (36.521795 45.14505)   \n",
       "6  POINT (36.5199666666667 45.1465833333333)   \n",
       "7         POINT (36.520895 45.1468133333333)   \n",
       "8                 POINT (36.522195 45.14598)   \n",
       "9  POINT (36.5221216666667 45.1452616666667)   \n",
       "\n",
       "                                                 geo  \n",
       "0  [0, 0, 24, 0, 0, 0, 0, 0, 0, 0, 0, 0, 1, 0, 0,...  \n",
       "1  [0, 0, 24, 0, 0, 0, 0, 0, 0, 0, 0, 0, 1, 0, 0,...  \n",
       "2  [0, 0, 24, 0, 0, 0, 0, 0, 0, 0, 0, 0, 1, 0, 0,...  \n",
       "3  [0, 0, 24, 0, 0, 0, 0, 0, 0, 0, 0, 0, 1, 0, 0,...  \n",
       "4  [0, 0, 24, 0, 0, 0, 0, 0, 0, 0, 0, 0, 1, 0, 0,...  \n",
       "5  [0, 0, 24, 0, 0, 0, 0, 0, 0, 0, 0, 0, 1, 0, 0,...  \n",
       "6  [0, 0, 24, 0, 0, 0, 0, 0, 0, 0, 0, 0, 1, 0, 0,...  \n",
       "7  [0, 0, 24, 0, 0, 0, 0, 0, 0, 0, 0, 0, 1, 0, 0,...  \n",
       "8  [0, 0, 24, 0, 0, 0, 0, 0, 0, 0, 0, 0, 1, 0, 0,...  \n",
       "9  [0, 0, 24, 0, 0, 0, 0, 0, 0, 0, 0, 0, 1, 0, 0,...  "
      ]
     },
     "execution_count": 37,
     "metadata": {},
     "output_type": "execute_result"
    }
   ],
   "source": [
    "%%sql \n",
    "\n",
    "select * from ais limit 10;"
   ]
  },
  {
   "cell_type": "code",
   "execution_count": 1,
   "metadata": {},
   "outputs": [
    {
     "name": "stderr",
     "output_type": "stream",
     "text": [
      "UsageError: Cell magic `%%sql` not found.\n"
     ]
    }
   ],
   "source": [
    "%%sql \n",
    "\n",
    "SELECT\n",
    "    a1.vesselid AS ship1,\n",
    "    a2.vesselid AS ship2,\n",
    "    a1.date AS start,\n",
    "    a2.date AS end\n",
    "FROM\n",
    "    ais a1\n",
    "JOIN\n",
    "    AND ST_Distance(a1.geom, a2.geom) <= 500\n",
    "    AND a1.vesselid <> a2.vesselid\n",
    "    AND ABS(EXTRACT(EPOCH FROM (a2.date - a1.date))) > 7200;"
   ]
  },
  {
   "cell_type": "markdown",
   "metadata": {},
   "source": [
    "Display the table content in the database."
   ]
  },
  {
   "cell_type": "code",
   "execution_count": null,
   "metadata": {},
   "outputs": [],
   "source": [
    "%%sql \n",
    "\n",
    "FROM cities;"
   ]
  },
  {
   "cell_type": "code",
   "execution_count": null,
   "metadata": {},
   "outputs": [],
   "source": [
    "%%sql \n",
    "\n",
    "FROM countries;"
   ]
  },
  {
   "cell_type": "markdown",
   "metadata": {},
   "source": [
    "## The SQL SELECT statement\n",
    "\n",
    "The `SELECT` statement is used to select data from a database. Use either `SELECT *` to select all columns, or `SELECT column1, column2, ...` to select specific columns.\n",
    "\n",
    "`SELECT * FROM cities` is the same as `FROM cities`."
   ]
  },
  {
   "cell_type": "code",
   "execution_count": null,
   "metadata": {
    "scrolled": true,
    "tags": [
     "hide-output"
    ]
   },
   "outputs": [],
   "source": [
    "%%sql \n",
    "\n",
    "SELECT * FROM cities;"
   ]
  },
  {
   "cell_type": "markdown",
   "metadata": {},
   "source": [
    "To limit the number of rows returned, use the `LIMIT` keyword. For example, `SELECT * FROM cities LIMIT 10` will return only the first 10 rows."
   ]
  },
  {
   "cell_type": "code",
   "execution_count": null,
   "metadata": {
    "scrolled": false
   },
   "outputs": [],
   "source": [
    "%%sql\n",
    "\n",
    "SELECT * FROM cities LIMIT 10;"
   ]
  },
  {
   "cell_type": "markdown",
   "metadata": {},
   "source": [
    "Select a subset of columns from the `cities` table and display the first 10 rows."
   ]
  },
  {
   "cell_type": "code",
   "execution_count": null,
   "metadata": {
    "scrolled": false
   },
   "outputs": [],
   "source": [
    "%%sql\n",
    "\n",
    "SELECT name, country FROM cities LIMIT 10;"
   ]
  },
  {
   "cell_type": "markdown",
   "metadata": {},
   "source": [
    "To select distinct values, use the `DISTINCT` keyword. For example, `SELECT DISTINCT country FROM cities` will return only the distinct values of the `country` column."
   ]
  },
  {
   "cell_type": "code",
   "execution_count": null,
   "metadata": {},
   "outputs": [],
   "source": [
    "%%sql\n",
    "\n",
    "SELECT DISTINCT country FROM cities LIMIT 10;"
   ]
  },
  {
   "cell_type": "markdown",
   "metadata": {},
   "source": [
    "To count the number of rows returned, use the `COUNT(*)` function. For example, `SELECT COUNT(*) FROM cities` will return the number of rows in the `cities` table."
   ]
  },
  {
   "cell_type": "code",
   "execution_count": null,
   "metadata": {},
   "outputs": [],
   "source": [
    "%%sql\n",
    "\n",
    "SELECT COUNT(*) FROM cities;"
   ]
  },
  {
   "cell_type": "markdown",
   "metadata": {},
   "source": [
    "To count the number of distinct values, use the `COUNT(DISTINCT column)` function. For example, `SELECT COUNT(DISTINCT country) FROM cities` will return the number of distinct values in the `country` column."
   ]
  },
  {
   "cell_type": "code",
   "execution_count": null,
   "metadata": {},
   "outputs": [],
   "source": [
    "%%sql\n",
    "\n",
    "SELECT COUNT(DISTINCT country) FROM cities;"
   ]
  },
  {
   "cell_type": "markdown",
   "metadata": {},
   "source": [
    "To calculate the maximum value, use the `MAX(column)` function. For example, `SELECT MAX(population) FROM cities` will return the maximum value in the `population` column."
   ]
  },
  {
   "cell_type": "code",
   "execution_count": null,
   "metadata": {},
   "outputs": [],
   "source": [
    "%%sql\n",
    "\n",
    "SELECT MAX(population) FROM cities;"
   ]
  },
  {
   "cell_type": "markdown",
   "metadata": {},
   "source": [
    "To calculate the total value, use the `SUM(column)` function. For example, `SELECT SUM(population) FROM cities` will return the total value in the `population` column."
   ]
  },
  {
   "cell_type": "code",
   "execution_count": null,
   "metadata": {},
   "outputs": [],
   "source": [
    "%%sql\n",
    "\n",
    "SELECT SUM(population) FROM cities;"
   ]
  },
  {
   "cell_type": "markdown",
   "metadata": {},
   "source": [
    "To calculate the average value, use the `AVG(column)` function. For example, `SELECT AVG(population) FROM cities` will return the average value in the `population` column."
   ]
  },
  {
   "cell_type": "code",
   "execution_count": null,
   "metadata": {},
   "outputs": [],
   "source": [
    "%%sql\n",
    "\n",
    "SELECT AVG(population) FROM cities;"
   ]
  },
  {
   "cell_type": "markdown",
   "metadata": {},
   "source": [
    "To order the results, use the `ORDER BY column` clause. For example, `SELECT * FROM cities ORDER BY country` will return the rows ordered by the `country` column alphabetically."
   ]
  },
  {
   "cell_type": "code",
   "execution_count": null,
   "metadata": {},
   "outputs": [],
   "source": [
    "%%sql\n",
    "\n",
    "SELECT * FROM cities ORDER BY country LIMIT 10;"
   ]
  },
  {
   "cell_type": "markdown",
   "metadata": {},
   "source": [
    "To order the results in descending order, use the `ORDER BY column DESC` clause. For example, `SELECT * FROM cities ORDER BY country ASC, population DESC` will return the rows ordered by the `country` column alphabetical order and then by the `population` column in descending order. "
   ]
  },
  {
   "cell_type": "code",
   "execution_count": null,
   "metadata": {},
   "outputs": [],
   "source": [
    "%%sql \n",
    "\n",
    "SELECT * FROM cities ORDER BY country ASC, population DESC LIMIT 10;"
   ]
  },
  {
   "cell_type": "markdown",
   "metadata": {},
   "source": [
    "## The WHERE Clause\n",
    "\n",
    "The `WHERE` clause is used to filter records. The `WHERE` clause is used to extract only those records that fulfill a specified condition."
   ]
  },
  {
   "cell_type": "code",
   "execution_count": null,
   "metadata": {
    "scrolled": true,
    "tags": [
     "hide-output"
    ]
   },
   "outputs": [],
   "source": [
    "%%sql\n",
    "\n",
    "SELECT * FROM cities WHERE country='USA'"
   ]
  },
  {
   "cell_type": "markdown",
   "metadata": {},
   "source": [
    "You can use boolean operators such as `AND`, `OR`, `NOT` to filter records. For example, `SELECT * FROM cities WHERE country='USA' OR country='CAN'` will return the rows where the `country` column is either `USA` or `CAN`."
   ]
  },
  {
   "cell_type": "code",
   "execution_count": null,
   "metadata": {
    "scrolled": false,
    "tags": [
     "hide-output"
    ]
   },
   "outputs": [],
   "source": [
    "%%sql\n",
    "\n",
    "SELECT * FROM cities WHERE country='USA' OR country='CAN';"
   ]
  },
  {
   "cell_type": "markdown",
   "metadata": {},
   "source": [
    "To select US cities with a population greater than 1 million, use the following query: `SELECT * FROM cities WHERE country='USA' AND population > 1000000`."
   ]
  },
  {
   "cell_type": "code",
   "execution_count": null,
   "metadata": {
    "tags": [
     "hide-output"
    ]
   },
   "outputs": [],
   "source": [
    "%%sql \n",
    "\n",
    "SELECT * FROM cities WHERE country='USA' AND population>1000000;"
   ]
  },
  {
   "cell_type": "markdown",
   "metadata": {},
   "source": [
    "To select cities with the country name starting with the letter `U`, use the following query: `SELECT * FROM cities WHERE country LIKE 'U%'`."
   ]
  },
  {
   "cell_type": "code",
   "execution_count": null,
   "metadata": {
    "scrolled": false,
    "tags": [
     "hide-output"
    ]
   },
   "outputs": [],
   "source": [
    "%%sql\n",
    "\n",
    "SELECT * FROM cities WHERE country LIKE 'U%';"
   ]
  },
  {
   "cell_type": "markdown",
   "metadata": {},
   "source": [
    "To select cities with the country name ending with the letter `A`, use the following query: `SELECT * FROM cities WHERE country LIKE '%A'`."
   ]
  },
  {
   "cell_type": "code",
   "execution_count": null,
   "metadata": {
    "tags": [
     "hide-output"
    ]
   },
   "outputs": [],
   "source": [
    "%%sql\n",
    "\n",
    "SELECT * FROM cities WHERE country LIKE '%A';"
   ]
  },
  {
   "cell_type": "markdown",
   "metadata": {},
   "source": [
    "To select cities with the country name containing the letter `S` in the middle, use the following query: `SELECT * FROM cities WHERE country LIKE '_S_'`."
   ]
  },
  {
   "cell_type": "code",
   "execution_count": null,
   "metadata": {
    "tags": [
     "hide-output"
    ]
   },
   "outputs": [],
   "source": [
    "%%sql \n",
    "\n",
    "SELECT * FROM cities WHERE country LIKE '_S_';"
   ]
  },
  {
   "cell_type": "markdown",
   "metadata": {},
   "source": [
    "To select cities from a list of countries, use the `IN` operator. For example, `SELECT * FROM cities WHERE country IN ('USA', 'CAN')` will return the rows where the `country` column is either `USA` or `CAN`."
   ]
  },
  {
   "cell_type": "code",
   "execution_count": null,
   "metadata": {
    "tags": [
     "hide-output"
    ]
   },
   "outputs": [],
   "source": [
    "%%sql\n",
    "\n",
    "SELECT * FROM cities WHERE country IN ('USA', 'CAN');"
   ]
  },
  {
   "cell_type": "markdown",
   "metadata": {},
   "source": [
    "To select cities with a population between 1 and 10 million, use the following query: `SELECT * FROM cities WHERE population BETWEEN 1000000 AND 10000000`."
   ]
  },
  {
   "cell_type": "code",
   "execution_count": null,
   "metadata": {
    "scrolled": false,
    "tags": [
     "hide-output"
    ]
   },
   "outputs": [],
   "source": [
    "%%sql \n",
    "\n",
    "SELECT * FROM cities WHERE population BETWEEN 1000000 AND 10000000;"
   ]
  },
  {
   "cell_type": "markdown",
   "metadata": {},
   "source": [
    "## SQL Joins\n",
    "\n",
    "Reference: https://www.w3schools.com/sql/sql_join.asp\n",
    "\n",
    "Here are the different types of the JOINs in SQL:\n",
    "\n",
    "- `(INNER) JOIN`: Returns records that have matching values in both tables\n",
    "- `LEFT (OUTER) JOIN`: Returns all records from the left table, and the matched records from the right table\n",
    "- `RIGHT (OUTER) JOIN`: Returns all records from the right table, and the matched records from the left table\n",
    "- `FULL (OUTER) JOIN`: Returns all records when there is a match in either left or right table\n",
    "\n",
    "![](https://i.imgur.com/mITYzuS.png)\n",
    "\n",
    "We have two sample tables: `cities` and `countries`.\n",
    "\n",
    "There are 1,249 cities in the `cities` table and 243 countries in the `countries` table."
   ]
  },
  {
   "cell_type": "code",
   "execution_count": null,
   "metadata": {},
   "outputs": [],
   "source": [
    "%%sql \n",
    "\n",
    "SELECT COUNT(*) FROM cities;"
   ]
  },
  {
   "cell_type": "code",
   "execution_count": null,
   "metadata": {},
   "outputs": [],
   "source": [
    "%%sql \n",
    "\n",
    "SELECT * FROM cities LIMIT 10;"
   ]
  },
  {
   "cell_type": "code",
   "execution_count": null,
   "metadata": {},
   "outputs": [],
   "source": [
    "%%sql \n",
    "\n",
    "SELECT COUNT(*) FROM countries;"
   ]
  },
  {
   "cell_type": "code",
   "execution_count": null,
   "metadata": {},
   "outputs": [],
   "source": [
    "%%sql \n",
    "\n",
    "SELECT * FROM countries LIMIT 10;"
   ]
  },
  {
   "cell_type": "markdown",
   "metadata": {},
   "source": [
    "### SQL Inner Join\n",
    "\n",
    "The `INNER JOIN` keyword selects records that have matching values in both tables. In the example, we join the `cities` table with the `countries` table using the `country` column in the `cities` table and the `Alpha3_code` column in the `countries` table. The result contains 1,244 rows, indicating that there are 5 cities that do not have a matching country."
   ]
  },
  {
   "cell_type": "code",
   "execution_count": null,
   "metadata": {
    "tags": [
     "hide-output"
    ]
   },
   "outputs": [],
   "source": [
    "%%sql\n",
    "\n",
    "SELECT * FROM cities INNER JOIN countries ON cities.country = countries.\"Alpha3_code\";"
   ]
  },
  {
   "cell_type": "markdown",
   "metadata": {},
   "source": [
    "Only select the `city` and `country` columns from the `cities` table and the `Country` column from the `countries` table."
   ]
  },
  {
   "cell_type": "code",
   "execution_count": null,
   "metadata": {
    "tags": [
     "hide-output"
    ]
   },
   "outputs": [],
   "source": [
    "%%sql\n",
    "\n",
    "SELECT name, cities.\"country\", countries.\"Country\" FROM cities INNER JOIN countries ON cities.country = countries.\"Alpha3_code\";"
   ]
  },
  {
   "cell_type": "markdown",
   "metadata": {},
   "source": [
    "### SQL Left Join\n",
    "\n",
    "The `LEFT JOIN` keyword returns all records from the left table (`cities`), and the matched records from the right table (`countries`). The result contains 1,249 rows, the same number of rows as the `cities` table."
   ]
  },
  {
   "cell_type": "code",
   "execution_count": null,
   "metadata": {
    "tags": [
     "hide-output"
    ]
   },
   "outputs": [],
   "source": [
    "%%sql\n",
    "\n",
    "SELECT * FROM cities LEFT JOIN countries ON cities.country = countries.\"Alpha3_code\";"
   ]
  },
  {
   "cell_type": "markdown",
   "metadata": {},
   "source": [
    "### SQL Right Join\n",
    "\n",
    "The `RIGHT JOIN` keyword returns all records from the right table (`countries`), and the matched records from the left table (`cities`). The result contains 1,291 rows."
   ]
  },
  {
   "cell_type": "code",
   "execution_count": null,
   "metadata": {
    "tags": [
     "hide-output"
    ]
   },
   "outputs": [],
   "source": [
    "%%sql\n",
    "\n",
    "SELECT * FROM cities RIGHT JOIN countries ON cities.country = countries.\"Alpha3_code\";"
   ]
  },
  {
   "cell_type": "markdown",
   "metadata": {},
   "source": [
    "### SQL Full Join\n",
    "\n",
    "The `FULL JOIN` keyword returns all records when there is a match in either left or right table. The result contains 1,296 rows."
   ]
  },
  {
   "cell_type": "code",
   "execution_count": null,
   "metadata": {
    "tags": [
     "hide-output"
    ]
   },
   "outputs": [],
   "source": [
    "%%sql\n",
    "\n",
    "SELECT * FROM cities FULL JOIN countries ON cities.country = countries.\"Alpha3_code\";"
   ]
  },
  {
   "cell_type": "markdown",
   "metadata": {},
   "source": [
    "### SQL Union\n",
    "\n",
    "The `UNION` operator is used to combine the result-set of two or more `SELECT` statements. "
   ]
  },
  {
   "cell_type": "code",
   "execution_count": null,
   "metadata": {
    "tags": [
     "hide-output"
    ]
   },
   "outputs": [],
   "source": [
    "%%sql\n",
    "\n",
    "SELECT country FROM cities\n",
    "UNION \n",
    "SELECT \"Alpha3_code\" FROM countries;"
   ]
  },
  {
   "cell_type": "markdown",
   "metadata": {},
   "source": [
    "## Aggregation\n",
    "\n",
    "### Group By\n",
    "\n",
    "The `GROUP BY` statement groups rows that have the same values into summary rows, like \"find the number of cities in each country\".\n",
    "\n",
    "The `GROUP BY` statement is often used with aggregate functions (`COUNT`, `MAX`, `MIN`, `SUM`, `AVG`) to group the result-set by one or more columns."
   ]
  },
  {
   "cell_type": "code",
   "execution_count": null,
   "metadata": {
    "scrolled": true,
    "tags": [
     "hide-output"
    ]
   },
   "outputs": [],
   "source": [
    "%%sql\n",
    "\n",
    "SELECT COUNT(name), country \n",
    "FROM cities \n",
    "GROUP BY country \n",
    "ORDER BY COUNT(name) DESC;"
   ]
  },
  {
   "cell_type": "code",
   "execution_count": null,
   "metadata": {
    "tags": [
     "hide-output"
    ]
   },
   "outputs": [],
   "source": [
    "%%sql\n",
    "\n",
    "SELECT countries.\"Country\", COUNT(name)\n",
    "FROM cities\n",
    "LEFT JOIN countries ON cities.country = countries.\"Alpha3_code\"\n",
    "GROUP BY countries.\"Country\"\n",
    "ORDER BY COUNT(name) DESC;"
   ]
  },
  {
   "cell_type": "markdown",
   "metadata": {},
   "source": [
    "### Having\n",
    "\n",
    "The `HAVING` clause was added to SQL because the `WHERE` keyword could not be used with aggregate functions.\n",
    "\n",
    "For example, to select countries with more than 40 cities:"
   ]
  },
  {
   "cell_type": "code",
   "execution_count": null,
   "metadata": {},
   "outputs": [],
   "source": [
    "%%sql \n",
    "\n",
    "SELECT COUNT(name), country\n",
    "FROM cities\n",
    "GROUP BY country\n",
    "HAVING COUNT(name) > 40\n",
    "ORDER BY COUNT(name) DESC;"
   ]
  },
  {
   "cell_type": "code",
   "execution_count": null,
   "metadata": {},
   "outputs": [],
   "source": [
    "%%sql\n",
    "\n",
    "SELECT countries.\"Country\", COUNT(name)\n",
    "FROM cities\n",
    "LEFT JOIN countries ON cities.country = countries.\"Alpha3_code\"\n",
    "GROUP BY countries.\"Country\"\n",
    "HAVING COUNT(name) > 40\n",
    "ORDER BY COUNT(name) DESC;"
   ]
  },
  {
   "cell_type": "markdown",
   "metadata": {},
   "source": [
    "## Conditional statements\n",
    "\n",
    "The `CASE` statement goes through conditions and returns a value when the first condition is met (like an `IF-THEN-ELSE` statement). So, once a condition is true, it will stop reading and return the result. If no conditions are true, it returns the value in the `ELSE` clause.\n",
    "\n",
    "For example, to divide cities into 3 groups based on their population:"
   ]
  },
  {
   "cell_type": "code",
   "execution_count": null,
   "metadata": {
    "scrolled": false,
    "tags": [
     "hide-output"
    ]
   },
   "outputs": [],
   "source": [
    "%%sql\n",
    "\n",
    "SELECT name, population,\n",
    "CASE\n",
    "    WHEN population > 10000000 THEN 'Megacity'\n",
    "    WHEN population > 1000000 THEN 'Large city'\n",
    "    ELSE 'Small city'\n",
    "END AS category\n",
    "FROM cities;"
   ]
  },
  {
   "cell_type": "markdown",
   "metadata": {},
   "source": [
    "## Saving results\n",
    "\n",
    "You can save the results of a query to a new table using the `CREATE TABLE AS` statement."
   ]
  },
  {
   "cell_type": "code",
   "execution_count": null,
   "metadata": {},
   "outputs": [],
   "source": [
    "%%sql\n",
    "\n",
    "CREATE TABLE cities2 AS SELECT * FROM cities;"
   ]
  },
  {
   "cell_type": "markdown",
   "metadata": {},
   "source": [
    "Show the new table content."
   ]
  },
  {
   "cell_type": "code",
   "execution_count": null,
   "metadata": {},
   "outputs": [],
   "source": [
    "%%sql\n",
    "\n",
    "FROM cities2;"
   ]
  },
  {
   "cell_type": "markdown",
   "metadata": {},
   "source": [
    "Use the `DROP TABLE` statement to delete the table."
   ]
  },
  {
   "cell_type": "code",
   "execution_count": null,
   "metadata": {},
   "outputs": [],
   "source": [
    "%%sql\n",
    "\n",
    "DROP TABLE IF EXISTS cities_usa;\n",
    "CREATE TABLE cities_usa AS (SELECT * FROM cities WHERE country = 'USA');"
   ]
  },
  {
   "cell_type": "code",
   "execution_count": null,
   "metadata": {},
   "outputs": [],
   "source": [
    "%%sql\n",
    "\n",
    "FROM cities_usa;"
   ]
  },
  {
   "cell_type": "markdown",
   "metadata": {},
   "source": [
    "Use the `INSERT INTO` statement to insert rows into a table."
   ]
  },
  {
   "cell_type": "code",
   "execution_count": null,
   "metadata": {},
   "outputs": [],
   "source": [
    "%%sql \n",
    "\n",
    "INSERT INTO cities_usa (SELECT * FROM cities WHERE country = 'CAN');"
   ]
  },
  {
   "cell_type": "markdown",
   "metadata": {},
   "source": [
    "## SQL Comments\n",
    "\n",
    "Comments are used to explain sections of SQL statements, or to prevent execution of SQL statements.\n",
    "\n",
    "\n",
    "### Single line comMents\n",
    "\n",
    "Single line comments start with --.\n",
    "\n",
    "Any text between -- and the end of the line will be ignored (will not be executed).\n",
    "\n",
    "The following example uses a single-line comment as an explanation:"
   ]
  },
  {
   "cell_type": "code",
   "execution_count": null,
   "metadata": {},
   "outputs": [],
   "source": [
    "%%sql\n",
    "\n",
    "SELECT * FROM cities LIMIT 10 -- This is a comment;"
   ]
  },
  {
   "cell_type": "markdown",
   "metadata": {},
   "source": [
    "### Multi-line comments\n",
    "\n",
    "Multi-line comments start with `/*` and end with `*/`.\n",
    "\n",
    "Any text between `/*` and `*/` will be ignored.\n",
    "\n",
    "The following example uses a multi-line comment as an explanation:"
   ]
  },
  {
   "cell_type": "code",
   "execution_count": null,
   "metadata": {},
   "outputs": [],
   "source": [
    "%%sql\n",
    "\n",
    "SELECT COUNT(name), country \n",
    "FROM cities \n",
    "/*\n",
    " * Adding Group by\n",
    " * Adding Order by\n",
    " */\n",
    "GROUP BY country \n",
    "ORDER BY COUNT(name) DESC\n",
    "LIMIT 10;"
   ]
  }
 ],
 "metadata": {
  "celltoolbar": "Tags",
  "hide_input": false,
  "kernelspec": {
   "display_name": "Python 3",
   "language": "python",
   "name": "python3"
  },
  "language_info": {
   "codemirror_mode": {
    "name": "ipython",
    "version": 3
   },
   "file_extension": ".py",
   "mimetype": "text/x-python",
   "name": "python",
   "nbconvert_exporter": "python",
   "pygments_lexer": "ipython3",
   "version": "3.9.18"
  },
  "toc": {
   "base_numbering": 1,
   "nav_menu": {},
   "number_sections": true,
   "sideBar": true,
   "skip_h1_title": false,
   "title_cell": "Table of Contents",
   "title_sidebar": "Contents",
   "toc_cell": false,
   "toc_position": {},
   "toc_section_display": true,
   "toc_window_display": false
  },
  "varInspector": {
   "cols": {
    "lenName": 16,
    "lenType": 16,
    "lenVar": 40
   },
   "kernels_config": {
    "python": {
     "delete_cmd_postfix": "",
     "delete_cmd_prefix": "del ",
     "library": "var_list.py",
     "varRefreshCmd": "print(var_dic_list())"
    },
    "r": {
     "delete_cmd_postfix": ") ",
     "delete_cmd_prefix": "rm(",
     "library": "var_list.r",
     "varRefreshCmd": "cat(var_dic_list()) "
    }
   },
   "types_to_exclude": [
    "module",
    "function",
    "builtin_function_or_method",
    "instance",
    "_Feature"
   ],
   "window_display": false
  }
 },
 "nbformat": 4,
 "nbformat_minor": 5
}
